{
 "cells": [
  {
   "cell_type": "code",
   "execution_count": 1,
   "id": "initial_id",
   "metadata": {
    "collapsed": true,
    "ExecuteTime": {
     "end_time": "2024-02-21T09:39:17.057230Z",
     "start_time": "2024-02-21T09:39:15.513782Z"
    }
   },
   "outputs": [
    {
     "name": "stderr",
     "output_type": "stream",
     "text": [
      "/var/folders/z_/7fqm4zqs11zdv7cm41c6w_pc0000gn/T/ipykernel_39830/2035458946.py:1: DeprecationWarning: \n",
      "Pyarrow will become a required dependency of pandas in the next major release of pandas (pandas 3.0),\n",
      "(to allow more performant data types, such as the Arrow string type, and better interoperability with other libraries)\n",
      "but was not found to be installed on your system.\n",
      "If this would cause problems for you,\n",
      "please provide us feedback at https://github.com/pandas-dev/pandas/issues/54466\n",
      "        \n",
      "  import pandas as pd\n"
     ]
    }
   ],
   "source": [
    "import pandas as pd"
   ]
  },
  {
   "cell_type": "code",
   "execution_count": 2,
   "outputs": [],
   "source": [
    "train_df = pd.read_csv('/Users/balazsmorvay/PycharmProjects/VAE/Configurations/ABIDE/train.csv')\n",
    "test_df = pd.read_csv('/Users/balazsmorvay/PycharmProjects/VAE/Configurations/ABIDE/test.csv')\n",
    "val_df = pd.read_csv('/Users/balazsmorvay/PycharmProjects/VAE/Configurations/ABIDE/val.csv')"
   ],
   "metadata": {
    "collapsed": false,
    "ExecuteTime": {
     "end_time": "2024-02-21T09:39:58.863372Z",
     "start_time": "2024-02-21T09:39:58.836281Z"
    }
   },
   "id": "9fb207cdd828bc98"
  },
  {
   "cell_type": "code",
   "execution_count": 8,
   "outputs": [
    {
     "data": {
      "text/plain": "   Unnamed: 0      FILE_ID  DX_GROUP  DSM_IV_TR  SEX  AGE_AT_SCAN  \\\n0       15720  NYU_0051055         2          0    2       15.950   \n1       23497  NYU_0051101         2          0    1       14.425   \n2       16176  NYU_0051058         2          0    2       22.110   \n3       14526  NYU_0051049         2          0    2       13.220   \n4        3208  NYU_0050974         1          2    1       11.560   \n\n   HANDEDNESS_CATEGORY SITE_ID  EXISTS  TIME_SLICE  \n0                  NaN     NYU       1         145  \n1                  NaN     NYU       1          47  \n2                  NaN     NYU       1          76  \n3                  NaN     NYU       1           1  \n4                  NaN     NYU       1          58  ",
      "text/html": "<div>\n<style scoped>\n    .dataframe tbody tr th:only-of-type {\n        vertical-align: middle;\n    }\n\n    .dataframe tbody tr th {\n        vertical-align: top;\n    }\n\n    .dataframe thead th {\n        text-align: right;\n    }\n</style>\n<table border=\"1\" class=\"dataframe\">\n  <thead>\n    <tr style=\"text-align: right;\">\n      <th></th>\n      <th>Unnamed: 0</th>\n      <th>FILE_ID</th>\n      <th>DX_GROUP</th>\n      <th>DSM_IV_TR</th>\n      <th>SEX</th>\n      <th>AGE_AT_SCAN</th>\n      <th>HANDEDNESS_CATEGORY</th>\n      <th>SITE_ID</th>\n      <th>EXISTS</th>\n      <th>TIME_SLICE</th>\n    </tr>\n  </thead>\n  <tbody>\n    <tr>\n      <th>0</th>\n      <td>15720</td>\n      <td>NYU_0051055</td>\n      <td>2</td>\n      <td>0</td>\n      <td>2</td>\n      <td>15.950</td>\n      <td>NaN</td>\n      <td>NYU</td>\n      <td>1</td>\n      <td>145</td>\n    </tr>\n    <tr>\n      <th>1</th>\n      <td>23497</td>\n      <td>NYU_0051101</td>\n      <td>2</td>\n      <td>0</td>\n      <td>1</td>\n      <td>14.425</td>\n      <td>NaN</td>\n      <td>NYU</td>\n      <td>1</td>\n      <td>47</td>\n    </tr>\n    <tr>\n      <th>2</th>\n      <td>16176</td>\n      <td>NYU_0051058</td>\n      <td>2</td>\n      <td>0</td>\n      <td>2</td>\n      <td>22.110</td>\n      <td>NaN</td>\n      <td>NYU</td>\n      <td>1</td>\n      <td>76</td>\n    </tr>\n    <tr>\n      <th>3</th>\n      <td>14526</td>\n      <td>NYU_0051049</td>\n      <td>2</td>\n      <td>0</td>\n      <td>2</td>\n      <td>13.220</td>\n      <td>NaN</td>\n      <td>NYU</td>\n      <td>1</td>\n      <td>1</td>\n    </tr>\n    <tr>\n      <th>4</th>\n      <td>3208</td>\n      <td>NYU_0050974</td>\n      <td>1</td>\n      <td>2</td>\n      <td>1</td>\n      <td>11.560</td>\n      <td>NaN</td>\n      <td>NYU</td>\n      <td>1</td>\n      <td>58</td>\n    </tr>\n  </tbody>\n</table>\n</div>"
     },
     "execution_count": 8,
     "metadata": {},
     "output_type": "execute_result"
    }
   ],
   "source": [
    "all_df = pd.concat(objs=[train_df, val_df, test_df], axis=0)\n",
    "all_df.head()"
   ],
   "metadata": {
    "collapsed": false,
    "ExecuteTime": {
     "end_time": "2024-02-21T09:42:16.689663Z",
     "start_time": "2024-02-21T09:42:16.680439Z"
    }
   },
   "id": "6db40691fc9be991"
  },
  {
   "cell_type": "code",
   "execution_count": 9,
   "outputs": [],
   "source": [
    "all_df.to_csv(path_or_buf='/Users/balazsmorvay/PycharmProjects/VAE/Configurations/ABIDE/NYU_all.csv')"
   ],
   "metadata": {
    "collapsed": false,
    "ExecuteTime": {
     "end_time": "2024-02-21T09:42:25.022139Z",
     "start_time": "2024-02-21T09:42:24.950161Z"
    }
   },
   "id": "18be12e20cb0e790"
  }
 ],
 "metadata": {
  "kernelspec": {
   "display_name": "Python 3",
   "language": "python",
   "name": "python3"
  },
  "language_info": {
   "codemirror_mode": {
    "name": "ipython",
    "version": 2
   },
   "file_extension": ".py",
   "mimetype": "text/x-python",
   "name": "python",
   "nbconvert_exporter": "python",
   "pygments_lexer": "ipython2",
   "version": "2.7.6"
  }
 },
 "nbformat": 4,
 "nbformat_minor": 5
}
