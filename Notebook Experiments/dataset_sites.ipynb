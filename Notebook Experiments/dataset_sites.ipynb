{
 "cells": [
  {
   "cell_type": "code",
   "execution_count": 49,
   "id": "initial_id",
   "metadata": {
    "collapsed": true,
    "ExecuteTime": {
     "end_time": "2024-02-17T15:45:43.735151Z",
     "start_time": "2024-02-17T15:45:43.729196Z"
    }
   },
   "outputs": [],
   "source": [
    "import os.path\n",
    "\n",
    "import numpy as np\n",
    "import pandas as pd"
   ]
  },
  {
   "cell_type": "code",
   "execution_count": 50,
   "outputs": [
    {
     "data": {
      "text/plain": "        FILE_ID  DX_GROUP  DSM_IV_TR  SEX  AGE_AT_SCAN HANDEDNESS_CATEGORY  \\\n1  Pitt_0050004         1          1    1        19.09                   R   \n2  Pitt_0050005         1          1    2        13.73                   R   \n3  Pitt_0050006         1          1    1        13.37                   L   \n4  Pitt_0050007         1          1    1        17.78                   R   \n5  Pitt_0050008         1          1    1        32.45                   R   \n\n  SITE_ID  EXISTS  \n1    PITT       1  \n2    PITT       1  \n3    PITT       1  \n4    PITT       1  \n5    PITT       1  ",
      "text/html": "<div>\n<style scoped>\n    .dataframe tbody tr th:only-of-type {\n        vertical-align: middle;\n    }\n\n    .dataframe tbody tr th {\n        vertical-align: top;\n    }\n\n    .dataframe thead th {\n        text-align: right;\n    }\n</style>\n<table border=\"1\" class=\"dataframe\">\n  <thead>\n    <tr style=\"text-align: right;\">\n      <th></th>\n      <th>FILE_ID</th>\n      <th>DX_GROUP</th>\n      <th>DSM_IV_TR</th>\n      <th>SEX</th>\n      <th>AGE_AT_SCAN</th>\n      <th>HANDEDNESS_CATEGORY</th>\n      <th>SITE_ID</th>\n      <th>EXISTS</th>\n    </tr>\n  </thead>\n  <tbody>\n    <tr>\n      <th>1</th>\n      <td>Pitt_0050004</td>\n      <td>1</td>\n      <td>1</td>\n      <td>1</td>\n      <td>19.09</td>\n      <td>R</td>\n      <td>PITT</td>\n      <td>1</td>\n    </tr>\n    <tr>\n      <th>2</th>\n      <td>Pitt_0050005</td>\n      <td>1</td>\n      <td>1</td>\n      <td>2</td>\n      <td>13.73</td>\n      <td>R</td>\n      <td>PITT</td>\n      <td>1</td>\n    </tr>\n    <tr>\n      <th>3</th>\n      <td>Pitt_0050006</td>\n      <td>1</td>\n      <td>1</td>\n      <td>1</td>\n      <td>13.37</td>\n      <td>L</td>\n      <td>PITT</td>\n      <td>1</td>\n    </tr>\n    <tr>\n      <th>4</th>\n      <td>Pitt_0050007</td>\n      <td>1</td>\n      <td>1</td>\n      <td>1</td>\n      <td>17.78</td>\n      <td>R</td>\n      <td>PITT</td>\n      <td>1</td>\n    </tr>\n    <tr>\n      <th>5</th>\n      <td>Pitt_0050008</td>\n      <td>1</td>\n      <td>1</td>\n      <td>1</td>\n      <td>32.45</td>\n      <td>R</td>\n      <td>PITT</td>\n      <td>1</td>\n    </tr>\n  </tbody>\n</table>\n</div>"
     },
     "execution_count": 50,
     "metadata": {},
     "output_type": "execute_result"
    }
   ],
   "source": [
    "df = pd.read_csv(\"/Users/balazsmorvay/PycharmProjects/VAE/Data/usables.csv\", sep=';')\n",
    "for i in range(len(df)):\n",
    "    filename = df.loc[i, 'FILE_ID']\n",
    "    filepath = os.path.join('/Users/balazsmorvay/Downloads/ABIDE/data/Outputs/ccs/filt_noglobal/func_preproc',\n",
    "                            f'{filename}_func_preproc.nii.gz')\n",
    "    df.loc[i, \"EXISTS\"] = 1 if os.path.exists(filepath) else 0\n",
    "df = df[df.EXISTS == 1]\n",
    "df.head()"
   ],
   "metadata": {
    "collapsed": false,
    "ExecuteTime": {
     "end_time": "2024-02-17T15:45:45.266634Z",
     "start_time": "2024-02-17T15:45:45.215067Z"
    }
   },
   "id": "68242a92eeaa516c"
  },
  {
   "cell_type": "code",
   "execution_count": 51,
   "outputs": [
    {
     "data": {
      "text/plain": "SITE_ID\nNYU         169\nUM_1         81\nUSM          60\nUCLA_1       55\nYALE         47\nTRINITY      44\nMAX_MUN      42\nPITT         41\nKKI          39\nSTANFORD     33\nSDSU         31\nUM_2         31\nLEUVEN_1     28\nLEUVEN_2     26\nOLIN         25\nSBL          23\nOHSU         22\nUCLA_2       20\nCALTECH      15\nCMU           2\nName: count, dtype: int64"
     },
     "execution_count": 51,
     "metadata": {},
     "output_type": "execute_result"
    }
   ],
   "source": [
    "df['SITE_ID'].value_counts()"
   ],
   "metadata": {
    "collapsed": false,
    "ExecuteTime": {
     "end_time": "2024-02-17T15:45:55.943182Z",
     "start_time": "2024-02-17T15:45:55.938055Z"
    }
   },
   "id": "46ea772f50fb9453"
  },
  {
   "cell_type": "code",
   "execution_count": 52,
   "outputs": [],
   "source": [
    "df = df[df.SITE_ID == 'NYU']\n",
    "timesteps = np.arange(0, 175)\n",
    "df = df.merge(pd.Series(timesteps, name='TIME_SLICE'), how='cross')\n",
    "train_df = df.sample(frac=0.8,random_state=42)\n",
    "remaining = df.drop(train_df.index)\n",
    "val_df = remaining.sample(frac=0.5, random_state=42)\n",
    "test_df = remaining.drop(val_df.index)"
   ],
   "metadata": {
    "collapsed": false,
    "ExecuteTime": {
     "end_time": "2024-02-17T15:46:01.519731Z",
     "start_time": "2024-02-17T15:46:01.502615Z"
    }
   },
   "id": "2b60b4a8ced00098"
  },
  {
   "cell_type": "code",
   "execution_count": 53,
   "outputs": [
    {
     "data": {
      "text/plain": "           DX_GROUP     DSM_IV_TR           SEX   AGE_AT_SCAN   EXISTS  \\\ncount  23660.000000  23660.000000  23660.000000  23660.000000  23660.0   \nmean       1.571682      0.583178      1.208749     15.389336      1.0   \nstd        0.494845      0.774212      0.406423      6.613007      0.0   \nmin        1.000000      0.000000      1.000000      6.470000      1.0   \n25%        1.000000      0.000000      1.000000     10.520000      1.0   \n50%        2.000000      0.000000      1.000000     13.710000      1.0   \n75%        2.000000      1.000000      1.000000     19.640000      1.0   \nmax        2.000000      3.000000      2.000000     39.100000      1.0   \n\n         TIME_SLICE  \ncount  23660.000000  \nmean      86.964455  \nstd       50.485709  \nmin        0.000000  \n25%       43.000000  \n50%       87.000000  \n75%      131.000000  \nmax      174.000000  ",
      "text/html": "<div>\n<style scoped>\n    .dataframe tbody tr th:only-of-type {\n        vertical-align: middle;\n    }\n\n    .dataframe tbody tr th {\n        vertical-align: top;\n    }\n\n    .dataframe thead th {\n        text-align: right;\n    }\n</style>\n<table border=\"1\" class=\"dataframe\">\n  <thead>\n    <tr style=\"text-align: right;\">\n      <th></th>\n      <th>DX_GROUP</th>\n      <th>DSM_IV_TR</th>\n      <th>SEX</th>\n      <th>AGE_AT_SCAN</th>\n      <th>EXISTS</th>\n      <th>TIME_SLICE</th>\n    </tr>\n  </thead>\n  <tbody>\n    <tr>\n      <th>count</th>\n      <td>23660.000000</td>\n      <td>23660.000000</td>\n      <td>23660.000000</td>\n      <td>23660.000000</td>\n      <td>23660.0</td>\n      <td>23660.000000</td>\n    </tr>\n    <tr>\n      <th>mean</th>\n      <td>1.571682</td>\n      <td>0.583178</td>\n      <td>1.208749</td>\n      <td>15.389336</td>\n      <td>1.0</td>\n      <td>86.964455</td>\n    </tr>\n    <tr>\n      <th>std</th>\n      <td>0.494845</td>\n      <td>0.774212</td>\n      <td>0.406423</td>\n      <td>6.613007</td>\n      <td>0.0</td>\n      <td>50.485709</td>\n    </tr>\n    <tr>\n      <th>min</th>\n      <td>1.000000</td>\n      <td>0.000000</td>\n      <td>1.000000</td>\n      <td>6.470000</td>\n      <td>1.0</td>\n      <td>0.000000</td>\n    </tr>\n    <tr>\n      <th>25%</th>\n      <td>1.000000</td>\n      <td>0.000000</td>\n      <td>1.000000</td>\n      <td>10.520000</td>\n      <td>1.0</td>\n      <td>43.000000</td>\n    </tr>\n    <tr>\n      <th>50%</th>\n      <td>2.000000</td>\n      <td>0.000000</td>\n      <td>1.000000</td>\n      <td>13.710000</td>\n      <td>1.0</td>\n      <td>87.000000</td>\n    </tr>\n    <tr>\n      <th>75%</th>\n      <td>2.000000</td>\n      <td>1.000000</td>\n      <td>1.000000</td>\n      <td>19.640000</td>\n      <td>1.0</td>\n      <td>131.000000</td>\n    </tr>\n    <tr>\n      <th>max</th>\n      <td>2.000000</td>\n      <td>3.000000</td>\n      <td>2.000000</td>\n      <td>39.100000</td>\n      <td>1.0</td>\n      <td>174.000000</td>\n    </tr>\n  </tbody>\n</table>\n</div>"
     },
     "execution_count": 53,
     "metadata": {},
     "output_type": "execute_result"
    }
   ],
   "source": [
    "train_df.describe()"
   ],
   "metadata": {
    "collapsed": false,
    "ExecuteTime": {
     "end_time": "2024-02-17T15:46:02.869315Z",
     "start_time": "2024-02-17T15:46:02.852557Z"
    }
   },
   "id": "3892a386cd3a1fa3"
  },
  {
   "cell_type": "code",
   "execution_count": 54,
   "outputs": [
    {
     "data": {
      "text/plain": "          DX_GROUP    DSM_IV_TR          SEX  AGE_AT_SCAN  EXISTS   TIME_SLICE\ncount  2958.000000  2958.000000  2958.000000  2958.000000  2958.0  2958.000000\nmean      1.578431     0.573360     1.202840    15.447469     1.0    86.748479\nstd       0.493894     0.774461     0.402182     6.546772     0.0    50.400657\nmin       1.000000     0.000000     1.000000     6.470000     1.0     0.000000\n25%       1.000000     0.000000     1.000000    10.650000     1.0    42.000000\n50%       2.000000     0.000000     1.000000    13.720000     1.0    88.000000\n75%       2.000000     1.000000     1.000000    19.730000     1.0   130.000000\nmax       2.000000     3.000000     2.000000    39.100000     1.0   174.000000",
      "text/html": "<div>\n<style scoped>\n    .dataframe tbody tr th:only-of-type {\n        vertical-align: middle;\n    }\n\n    .dataframe tbody tr th {\n        vertical-align: top;\n    }\n\n    .dataframe thead th {\n        text-align: right;\n    }\n</style>\n<table border=\"1\" class=\"dataframe\">\n  <thead>\n    <tr style=\"text-align: right;\">\n      <th></th>\n      <th>DX_GROUP</th>\n      <th>DSM_IV_TR</th>\n      <th>SEX</th>\n      <th>AGE_AT_SCAN</th>\n      <th>EXISTS</th>\n      <th>TIME_SLICE</th>\n    </tr>\n  </thead>\n  <tbody>\n    <tr>\n      <th>count</th>\n      <td>2958.000000</td>\n      <td>2958.000000</td>\n      <td>2958.000000</td>\n      <td>2958.000000</td>\n      <td>2958.0</td>\n      <td>2958.000000</td>\n    </tr>\n    <tr>\n      <th>mean</th>\n      <td>1.578431</td>\n      <td>0.573360</td>\n      <td>1.202840</td>\n      <td>15.447469</td>\n      <td>1.0</td>\n      <td>86.748479</td>\n    </tr>\n    <tr>\n      <th>std</th>\n      <td>0.493894</td>\n      <td>0.774461</td>\n      <td>0.402182</td>\n      <td>6.546772</td>\n      <td>0.0</td>\n      <td>50.400657</td>\n    </tr>\n    <tr>\n      <th>min</th>\n      <td>1.000000</td>\n      <td>0.000000</td>\n      <td>1.000000</td>\n      <td>6.470000</td>\n      <td>1.0</td>\n      <td>0.000000</td>\n    </tr>\n    <tr>\n      <th>25%</th>\n      <td>1.000000</td>\n      <td>0.000000</td>\n      <td>1.000000</td>\n      <td>10.650000</td>\n      <td>1.0</td>\n      <td>42.000000</td>\n    </tr>\n    <tr>\n      <th>50%</th>\n      <td>2.000000</td>\n      <td>0.000000</td>\n      <td>1.000000</td>\n      <td>13.720000</td>\n      <td>1.0</td>\n      <td>88.000000</td>\n    </tr>\n    <tr>\n      <th>75%</th>\n      <td>2.000000</td>\n      <td>1.000000</td>\n      <td>1.000000</td>\n      <td>19.730000</td>\n      <td>1.0</td>\n      <td>130.000000</td>\n    </tr>\n    <tr>\n      <th>max</th>\n      <td>2.000000</td>\n      <td>3.000000</td>\n      <td>2.000000</td>\n      <td>39.100000</td>\n      <td>1.0</td>\n      <td>174.000000</td>\n    </tr>\n  </tbody>\n</table>\n</div>"
     },
     "execution_count": 54,
     "metadata": {},
     "output_type": "execute_result"
    }
   ],
   "source": [
    "val_df.describe()"
   ],
   "metadata": {
    "collapsed": false,
    "ExecuteTime": {
     "end_time": "2024-02-17T15:46:05.794004Z",
     "start_time": "2024-02-17T15:46:05.780308Z"
    }
   },
   "id": "27270d0abcd54ddb"
  },
  {
   "cell_type": "code",
   "execution_count": 55,
   "outputs": [
    {
     "data": {
      "text/plain": "          DX_GROUP    DSM_IV_TR          SEX  AGE_AT_SCAN  EXISTS   TIME_SLICE\ncount  2957.000000  2957.000000  2957.000000  2957.000000  2957.0  2957.000000\nmean      1.587758     0.560027     1.198174    15.375878     1.0    87.536016\nstd       0.492322     0.769117     0.398691     6.560503     0.0    50.907407\nmin       1.000000     0.000000     1.000000     6.470000     1.0     0.000000\n25%       1.000000     0.000000     1.000000    10.520000     1.0    43.000000\n50%       2.000000     0.000000     1.000000    13.710000     1.0    89.000000\n75%       2.000000     1.000000     1.000000    19.640000     1.0   132.000000\nmax       2.000000     3.000000     2.000000    39.100000     1.0   174.000000",
      "text/html": "<div>\n<style scoped>\n    .dataframe tbody tr th:only-of-type {\n        vertical-align: middle;\n    }\n\n    .dataframe tbody tr th {\n        vertical-align: top;\n    }\n\n    .dataframe thead th {\n        text-align: right;\n    }\n</style>\n<table border=\"1\" class=\"dataframe\">\n  <thead>\n    <tr style=\"text-align: right;\">\n      <th></th>\n      <th>DX_GROUP</th>\n      <th>DSM_IV_TR</th>\n      <th>SEX</th>\n      <th>AGE_AT_SCAN</th>\n      <th>EXISTS</th>\n      <th>TIME_SLICE</th>\n    </tr>\n  </thead>\n  <tbody>\n    <tr>\n      <th>count</th>\n      <td>2957.000000</td>\n      <td>2957.000000</td>\n      <td>2957.000000</td>\n      <td>2957.000000</td>\n      <td>2957.0</td>\n      <td>2957.000000</td>\n    </tr>\n    <tr>\n      <th>mean</th>\n      <td>1.587758</td>\n      <td>0.560027</td>\n      <td>1.198174</td>\n      <td>15.375878</td>\n      <td>1.0</td>\n      <td>87.536016</td>\n    </tr>\n    <tr>\n      <th>std</th>\n      <td>0.492322</td>\n      <td>0.769117</td>\n      <td>0.398691</td>\n      <td>6.560503</td>\n      <td>0.0</td>\n      <td>50.907407</td>\n    </tr>\n    <tr>\n      <th>min</th>\n      <td>1.000000</td>\n      <td>0.000000</td>\n      <td>1.000000</td>\n      <td>6.470000</td>\n      <td>1.0</td>\n      <td>0.000000</td>\n    </tr>\n    <tr>\n      <th>25%</th>\n      <td>1.000000</td>\n      <td>0.000000</td>\n      <td>1.000000</td>\n      <td>10.520000</td>\n      <td>1.0</td>\n      <td>43.000000</td>\n    </tr>\n    <tr>\n      <th>50%</th>\n      <td>2.000000</td>\n      <td>0.000000</td>\n      <td>1.000000</td>\n      <td>13.710000</td>\n      <td>1.0</td>\n      <td>89.000000</td>\n    </tr>\n    <tr>\n      <th>75%</th>\n      <td>2.000000</td>\n      <td>1.000000</td>\n      <td>1.000000</td>\n      <td>19.640000</td>\n      <td>1.0</td>\n      <td>132.000000</td>\n    </tr>\n    <tr>\n      <th>max</th>\n      <td>2.000000</td>\n      <td>3.000000</td>\n      <td>2.000000</td>\n      <td>39.100000</td>\n      <td>1.0</td>\n      <td>174.000000</td>\n    </tr>\n  </tbody>\n</table>\n</div>"
     },
     "execution_count": 55,
     "metadata": {},
     "output_type": "execute_result"
    }
   ],
   "source": [
    "test_df.describe()"
   ],
   "metadata": {
    "collapsed": false,
    "ExecuteTime": {
     "end_time": "2024-02-17T15:46:06.504119Z",
     "start_time": "2024-02-17T15:46:06.489442Z"
    }
   },
   "id": "7bfda4a11bc4362d"
  },
  {
   "cell_type": "code",
   "execution_count": 56,
   "outputs": [],
   "source": [
    "train_df.to_csv('/Users/balazsmorvay/PycharmProjects/VAE/Configurations/ABIDE/train.csv')\n",
    "val_df.to_csv('/Users/balazsmorvay/PycharmProjects/VAE/Configurations/ABIDE/val.csv')\n",
    "test_df.to_csv('/Users/balazsmorvay/PycharmProjects/VAE/Configurations/ABIDE/test.csv')"
   ],
   "metadata": {
    "collapsed": false,
    "ExecuteTime": {
     "end_time": "2024-02-17T15:46:09.361727Z",
     "start_time": "2024-02-17T15:46:09.308116Z"
    }
   },
   "id": "8a1cebe372aa62d4"
  },
  {
   "cell_type": "code",
   "execution_count": null,
   "outputs": [],
   "source": [],
   "metadata": {
    "collapsed": false
   },
   "id": "6c2dbae8a86e3830"
  }
 ],
 "metadata": {
  "kernelspec": {
   "display_name": "Python 3",
   "language": "python",
   "name": "python3"
  },
  "language_info": {
   "codemirror_mode": {
    "name": "ipython",
    "version": 2
   },
   "file_extension": ".py",
   "mimetype": "text/x-python",
   "name": "python",
   "nbconvert_exporter": "python",
   "pygments_lexer": "ipython2",
   "version": "2.7.6"
  }
 },
 "nbformat": 4,
 "nbformat_minor": 5
}
