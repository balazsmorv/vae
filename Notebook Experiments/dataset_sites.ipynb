{
 "cells": [
  {
   "cell_type": "markdown",
   "source": [
    "# Imports"
   ],
   "metadata": {
    "collapsed": false
   },
   "id": "dfefc261781adc3"
  },
  {
   "cell_type": "code",
   "execution_count": 1,
   "id": "initial_id",
   "metadata": {
    "collapsed": true,
    "pycharm": {
     "name": "#%%\n"
    },
    "ExecuteTime": {
     "end_time": "2024-02-26T13:57:25.622708Z",
     "start_time": "2024-02-26T13:57:25.349206Z"
    }
   },
   "outputs": [
    {
     "name": "stderr",
     "output_type": "stream",
     "text": [
      "/var/folders/z_/7fqm4zqs11zdv7cm41c6w_pc0000gn/T/ipykernel_3842/3339900087.py:2: DeprecationWarning: \n",
      "Pyarrow will become a required dependency of pandas in the next major release of pandas (pandas 3.0),\n",
      "(to allow more performant data types, such as the Arrow string type, and better interoperability with other libraries)\n",
      "but was not found to be installed on your system.\n",
      "If this would cause problems for you,\n",
      "please provide us feedback at https://github.com/pandas-dev/pandas/issues/54466\n",
      "        \n",
      "  import pandas as pd\n"
     ]
    }
   ],
   "source": [
    "import numpy as np\n",
    "import pandas as pd\n",
    "import os"
   ]
  },
  {
   "cell_type": "markdown",
   "source": [
    "### Wheter to generate videos or 3D images"
   ],
   "metadata": {
    "collapsed": false
   },
   "id": "abddb8921de10f65"
  },
  {
   "cell_type": "code",
   "execution_count": 2,
   "outputs": [],
   "source": [
    "generate_video = True\n",
    "video_length = 10"
   ],
   "metadata": {
    "collapsed": false,
    "ExecuteTime": {
     "end_time": "2024-02-26T13:57:28.342175Z",
     "start_time": "2024-02-26T13:57:28.340457Z"
    }
   },
   "id": "9fe70e697a87efc7"
  },
  {
   "cell_type": "markdown",
   "source": [
    "# Read usable data\n",
    "Read the usables.csv file, and filter out items that are not downloaded, and thus unavailable."
   ],
   "metadata": {
    "collapsed": false
   },
   "id": "df5c27b12adc764e"
  },
  {
   "cell_type": "code",
   "execution_count": 3,
   "outputs": [
    {
     "data": {
      "text/plain": "        FILE_ID  DX_GROUP  DSM_IV_TR  SEX  AGE_AT_SCAN HANDEDNESS_CATEGORY  \\\n1  Pitt_0050004         1          1    1        19.09                   R   \n2  Pitt_0050005         1          1    2        13.73                   R   \n3  Pitt_0050006         1          1    1        13.37                   L   \n4  Pitt_0050007         1          1    1        17.78                   R   \n5  Pitt_0050008         1          1    1        32.45                   R   \n\n  SITE_ID  EXISTS  \n1    PITT       1  \n2    PITT       1  \n3    PITT       1  \n4    PITT       1  \n5    PITT       1  ",
      "text/html": "<div>\n<style scoped>\n    .dataframe tbody tr th:only-of-type {\n        vertical-align: middle;\n    }\n\n    .dataframe tbody tr th {\n        vertical-align: top;\n    }\n\n    .dataframe thead th {\n        text-align: right;\n    }\n</style>\n<table border=\"1\" class=\"dataframe\">\n  <thead>\n    <tr style=\"text-align: right;\">\n      <th></th>\n      <th>FILE_ID</th>\n      <th>DX_GROUP</th>\n      <th>DSM_IV_TR</th>\n      <th>SEX</th>\n      <th>AGE_AT_SCAN</th>\n      <th>HANDEDNESS_CATEGORY</th>\n      <th>SITE_ID</th>\n      <th>EXISTS</th>\n    </tr>\n  </thead>\n  <tbody>\n    <tr>\n      <th>1</th>\n      <td>Pitt_0050004</td>\n      <td>1</td>\n      <td>1</td>\n      <td>1</td>\n      <td>19.09</td>\n      <td>R</td>\n      <td>PITT</td>\n      <td>1</td>\n    </tr>\n    <tr>\n      <th>2</th>\n      <td>Pitt_0050005</td>\n      <td>1</td>\n      <td>1</td>\n      <td>2</td>\n      <td>13.73</td>\n      <td>R</td>\n      <td>PITT</td>\n      <td>1</td>\n    </tr>\n    <tr>\n      <th>3</th>\n      <td>Pitt_0050006</td>\n      <td>1</td>\n      <td>1</td>\n      <td>1</td>\n      <td>13.37</td>\n      <td>L</td>\n      <td>PITT</td>\n      <td>1</td>\n    </tr>\n    <tr>\n      <th>4</th>\n      <td>Pitt_0050007</td>\n      <td>1</td>\n      <td>1</td>\n      <td>1</td>\n      <td>17.78</td>\n      <td>R</td>\n      <td>PITT</td>\n      <td>1</td>\n    </tr>\n    <tr>\n      <th>5</th>\n      <td>Pitt_0050008</td>\n      <td>1</td>\n      <td>1</td>\n      <td>1</td>\n      <td>32.45</td>\n      <td>R</td>\n      <td>PITT</td>\n      <td>1</td>\n    </tr>\n  </tbody>\n</table>\n</div>"
     },
     "execution_count": 3,
     "metadata": {},
     "output_type": "execute_result"
    }
   ],
   "source": [
    "df = pd.read_csv(\"/Users/balazsmorvay/PycharmProjects/VAE/Data/usables.csv\", sep=';')\n",
    "for i in range(len(df)):\n",
    "    filename = df.loc[i, 'FILE_ID']\n",
    "    filepath = os.path.join('/Users/balazsmorvay/Downloads/ABIDE/data/Outputs/ccs/filt_noglobal/func_preproc',\n",
    "                            f'{filename}_func_preproc.nii.gz')\n",
    "    df.loc[i, \"EXISTS\"] = 1 if os.path.exists(filepath) else 0\n",
    "df = df[df.EXISTS == 1]\n",
    "df.head()"
   ],
   "metadata": {
    "collapsed": false,
    "pycharm": {
     "name": "#%%\n"
    },
    "ExecuteTime": {
     "end_time": "2024-02-26T13:57:31.418511Z",
     "start_time": "2024-02-26T13:57:31.359955Z"
    }
   },
   "id": "68242a92eeaa516c"
  },
  {
   "cell_type": "markdown",
   "source": [
    "# Check number of data points in sites"
   ],
   "metadata": {
    "collapsed": false
   },
   "id": "9eeb4824c40430c1"
  },
  {
   "cell_type": "code",
   "execution_count": 4,
   "outputs": [],
   "source": [
    "df.drop(df[df.FILE_ID == \"UM_1_0050302\"].index, inplace=True) # drop this file, as it cannot be opened"
   ],
   "metadata": {
    "collapsed": false,
    "ExecuteTime": {
     "end_time": "2024-02-26T13:57:35.408917Z",
     "start_time": "2024-02-26T13:57:35.405159Z"
    }
   },
   "id": "39e9561d3df300e6"
  },
  {
   "cell_type": "code",
   "execution_count": 5,
   "outputs": [
    {
     "data": {
      "text/plain": "SITE_ID\nNYU         169\nUM_1         80\nUSM          60\nUCLA_1       55\nYALE         47\nTRINITY      44\nMAX_MUN      42\nPITT         41\nKKI          39\nSTANFORD     33\nSDSU         31\nUM_2         31\nLEUVEN_1     28\nLEUVEN_2     26\nOLIN         25\nSBL          23\nOHSU         22\nUCLA_2       20\nCALTECH      15\nCMU           2\nName: count, dtype: int64"
     },
     "execution_count": 5,
     "metadata": {},
     "output_type": "execute_result"
    }
   ],
   "source": [
    "df['SITE_ID'].value_counts()"
   ],
   "metadata": {
    "collapsed": false,
    "pycharm": {
     "name": "#%%\n"
    },
    "ExecuteTime": {
     "end_time": "2024-02-26T13:57:39.917010Z",
     "start_time": "2024-02-26T13:57:39.913322Z"
    }
   },
   "id": "46ea772f50fb9453"
  },
  {
   "cell_type": "markdown",
   "source": [
    "# Select the highest, and create train, test and val.csv files"
   ],
   "metadata": {
    "collapsed": false
   },
   "id": "e225e1e8a116d18"
  },
  {
   "cell_type": "code",
   "execution_count": 6,
   "outputs": [
    {
     "name": "stdout",
     "output_type": "stream",
     "text": [
      "       FILE_ID  DX_GROUP  DSM_IV_TR  SEX  AGE_AT_SCAN HANDEDNESS_CATEGORY  \\\n",
      "0  NYU_0050954         1          1    2        14.75                 NaN   \n",
      "1  NYU_0050954         1          1    2        14.75                 NaN   \n",
      "2  NYU_0050954         1          1    2        14.75                 NaN   \n",
      "3  NYU_0050954         1          1    2        14.75                 NaN   \n",
      "4  NYU_0050954         1          1    2        14.75                 NaN   \n",
      "\n",
      "  SITE_ID  EXISTS  START_TIME  END_TIME  \n",
      "0     NYU       1           0        10  \n",
      "1     NYU       1          10        20  \n",
      "2     NYU       1          20        30  \n",
      "3     NYU       1          30        40  \n",
      "4     NYU       1          40        50  \n"
     ]
    }
   ],
   "source": [
    "df = df[df.SITE_ID == 'NYU']\n",
    "\n",
    "if generate_video:\n",
    "    start_times_series = pd.Series(np.arange(start=0, stop=161, step=10), name='START_TIME')\n",
    "    df = df.merge(start_times_series, how='cross')\n",
    "    df['END_TIME'] = df.apply(lambda x: x['START_TIME'] + video_length, axis=1)\n",
    "    print(df.head())\n",
    "else:\n",
    "    timesteps = np.arange(0, 175)\n",
    "    df = df.merge(pd.Series(timesteps, name='TIME_SLICE'), how='cross')\n",
    "\n",
    "train_df = df.sample(frac=0.8,random_state=42)\n",
    "remaining = df.drop(train_df.index)\n",
    "val_df = remaining.sample(frac=0.5, random_state=42)\n",
    "test_df = remaining.drop(val_df.index)"
   ],
   "metadata": {
    "collapsed": false,
    "pycharm": {
     "name": "#%%\n"
    },
    "ExecuteTime": {
     "end_time": "2024-02-26T08:10:43.536890Z",
     "start_time": "2024-02-26T08:10:43.516640Z"
    }
   },
   "id": "2b60b4a8ced00098"
  },
  {
   "cell_type": "code",
   "execution_count": 7,
   "outputs": [
    {
     "data": {
      "text/plain": "          DX_GROUP    DSM_IV_TR          SEX  AGE_AT_SCAN  EXISTS  \\\ncount  2298.000000  2298.000000  2298.000000  2298.000000  2298.0   \nmean      1.575718     0.583551     1.210618    15.259160     1.0   \nstd       0.494341     0.780827     0.407836     6.550382     0.0   \nmin       1.000000     0.000000     1.000000     6.470000     1.0   \n25%       1.000000     0.000000     1.000000    10.480000     1.0   \n50%       2.000000     0.000000     1.000000    13.628000     1.0   \n75%       2.000000     1.000000     1.000000    19.228000     1.0   \nmax       2.000000     3.000000     2.000000    39.100000     1.0   \n\n        START_TIME     END_TIME  \ncount  2298.000000  2298.000000  \nmean     80.274151    90.274151  \nstd      49.035660    49.035660  \nmin       0.000000    10.000000  \n25%      40.000000    50.000000  \n50%      80.000000    90.000000  \n75%     120.000000   130.000000  \nmax     160.000000   170.000000  ",
      "text/html": "<div>\n<style scoped>\n    .dataframe tbody tr th:only-of-type {\n        vertical-align: middle;\n    }\n\n    .dataframe tbody tr th {\n        vertical-align: top;\n    }\n\n    .dataframe thead th {\n        text-align: right;\n    }\n</style>\n<table border=\"1\" class=\"dataframe\">\n  <thead>\n    <tr style=\"text-align: right;\">\n      <th></th>\n      <th>DX_GROUP</th>\n      <th>DSM_IV_TR</th>\n      <th>SEX</th>\n      <th>AGE_AT_SCAN</th>\n      <th>EXISTS</th>\n      <th>START_TIME</th>\n      <th>END_TIME</th>\n    </tr>\n  </thead>\n  <tbody>\n    <tr>\n      <th>count</th>\n      <td>2298.000000</td>\n      <td>2298.000000</td>\n      <td>2298.000000</td>\n      <td>2298.000000</td>\n      <td>2298.0</td>\n      <td>2298.000000</td>\n      <td>2298.000000</td>\n    </tr>\n    <tr>\n      <th>mean</th>\n      <td>1.575718</td>\n      <td>0.583551</td>\n      <td>1.210618</td>\n      <td>15.259160</td>\n      <td>1.0</td>\n      <td>80.274151</td>\n      <td>90.274151</td>\n    </tr>\n    <tr>\n      <th>std</th>\n      <td>0.494341</td>\n      <td>0.780827</td>\n      <td>0.407836</td>\n      <td>6.550382</td>\n      <td>0.0</td>\n      <td>49.035660</td>\n      <td>49.035660</td>\n    </tr>\n    <tr>\n      <th>min</th>\n      <td>1.000000</td>\n      <td>0.000000</td>\n      <td>1.000000</td>\n      <td>6.470000</td>\n      <td>1.0</td>\n      <td>0.000000</td>\n      <td>10.000000</td>\n    </tr>\n    <tr>\n      <th>25%</th>\n      <td>1.000000</td>\n      <td>0.000000</td>\n      <td>1.000000</td>\n      <td>10.480000</td>\n      <td>1.0</td>\n      <td>40.000000</td>\n      <td>50.000000</td>\n    </tr>\n    <tr>\n      <th>50%</th>\n      <td>2.000000</td>\n      <td>0.000000</td>\n      <td>1.000000</td>\n      <td>13.628000</td>\n      <td>1.0</td>\n      <td>80.000000</td>\n      <td>90.000000</td>\n    </tr>\n    <tr>\n      <th>75%</th>\n      <td>2.000000</td>\n      <td>1.000000</td>\n      <td>1.000000</td>\n      <td>19.228000</td>\n      <td>1.0</td>\n      <td>120.000000</td>\n      <td>130.000000</td>\n    </tr>\n    <tr>\n      <th>max</th>\n      <td>2.000000</td>\n      <td>3.000000</td>\n      <td>2.000000</td>\n      <td>39.100000</td>\n      <td>1.0</td>\n      <td>160.000000</td>\n      <td>170.000000</td>\n    </tr>\n  </tbody>\n</table>\n</div>"
     },
     "execution_count": 7,
     "metadata": {},
     "output_type": "execute_result"
    }
   ],
   "source": [
    "train_df.describe()"
   ],
   "metadata": {
    "collapsed": false,
    "pycharm": {
     "name": "#%%\n"
    },
    "ExecuteTime": {
     "end_time": "2024-02-26T08:11:06.636917Z",
     "start_time": "2024-02-26T08:11:06.621249Z"
    }
   },
   "id": "3892a386cd3a1fa3"
  },
  {
   "cell_type": "code",
   "execution_count": 8,
   "outputs": [
    {
     "data": {
      "text/plain": "         DX_GROUP   DSM_IV_TR         SEX  AGE_AT_SCAN  EXISTS  START_TIME  \\\ncount  288.000000  288.000000  288.000000   288.000000   288.0  288.000000   \nmean     1.541667    0.597222    1.215278    16.175927     1.0   78.402778   \nstd      0.499128    0.740274    0.411730     6.832882     0.0   47.694779   \nmin      1.000000    0.000000    1.000000     7.150000     1.0    0.000000   \n25%      1.000000    0.000000    1.000000    10.827500     1.0   40.000000   \n50%      2.000000    0.000000    1.000000    14.210000     1.0   80.000000   \n75%      2.000000    1.000000    1.000000    20.752500     1.0  120.000000   \nmax      2.000000    3.000000    2.000000    39.100000     1.0  160.000000   \n\n         END_TIME  \ncount  288.000000  \nmean    88.402778  \nstd     47.694779  \nmin     10.000000  \n25%     50.000000  \n50%     90.000000  \n75%    130.000000  \nmax    170.000000  ",
      "text/html": "<div>\n<style scoped>\n    .dataframe tbody tr th:only-of-type {\n        vertical-align: middle;\n    }\n\n    .dataframe tbody tr th {\n        vertical-align: top;\n    }\n\n    .dataframe thead th {\n        text-align: right;\n    }\n</style>\n<table border=\"1\" class=\"dataframe\">\n  <thead>\n    <tr style=\"text-align: right;\">\n      <th></th>\n      <th>DX_GROUP</th>\n      <th>DSM_IV_TR</th>\n      <th>SEX</th>\n      <th>AGE_AT_SCAN</th>\n      <th>EXISTS</th>\n      <th>START_TIME</th>\n      <th>END_TIME</th>\n    </tr>\n  </thead>\n  <tbody>\n    <tr>\n      <th>count</th>\n      <td>288.000000</td>\n      <td>288.000000</td>\n      <td>288.000000</td>\n      <td>288.000000</td>\n      <td>288.0</td>\n      <td>288.000000</td>\n      <td>288.000000</td>\n    </tr>\n    <tr>\n      <th>mean</th>\n      <td>1.541667</td>\n      <td>0.597222</td>\n      <td>1.215278</td>\n      <td>16.175927</td>\n      <td>1.0</td>\n      <td>78.402778</td>\n      <td>88.402778</td>\n    </tr>\n    <tr>\n      <th>std</th>\n      <td>0.499128</td>\n      <td>0.740274</td>\n      <td>0.411730</td>\n      <td>6.832882</td>\n      <td>0.0</td>\n      <td>47.694779</td>\n      <td>47.694779</td>\n    </tr>\n    <tr>\n      <th>min</th>\n      <td>1.000000</td>\n      <td>0.000000</td>\n      <td>1.000000</td>\n      <td>7.150000</td>\n      <td>1.0</td>\n      <td>0.000000</td>\n      <td>10.000000</td>\n    </tr>\n    <tr>\n      <th>25%</th>\n      <td>1.000000</td>\n      <td>0.000000</td>\n      <td>1.000000</td>\n      <td>10.827500</td>\n      <td>1.0</td>\n      <td>40.000000</td>\n      <td>50.000000</td>\n    </tr>\n    <tr>\n      <th>50%</th>\n      <td>2.000000</td>\n      <td>0.000000</td>\n      <td>1.000000</td>\n      <td>14.210000</td>\n      <td>1.0</td>\n      <td>80.000000</td>\n      <td>90.000000</td>\n    </tr>\n    <tr>\n      <th>75%</th>\n      <td>2.000000</td>\n      <td>1.000000</td>\n      <td>1.000000</td>\n      <td>20.752500</td>\n      <td>1.0</td>\n      <td>120.000000</td>\n      <td>130.000000</td>\n    </tr>\n    <tr>\n      <th>max</th>\n      <td>2.000000</td>\n      <td>3.000000</td>\n      <td>2.000000</td>\n      <td>39.100000</td>\n      <td>1.0</td>\n      <td>160.000000</td>\n      <td>170.000000</td>\n    </tr>\n  </tbody>\n</table>\n</div>"
     },
     "execution_count": 8,
     "metadata": {},
     "output_type": "execute_result"
    }
   ],
   "source": [
    "val_df.describe()"
   ],
   "metadata": {
    "collapsed": false,
    "pycharm": {
     "name": "#%%\n"
    },
    "ExecuteTime": {
     "end_time": "2024-02-26T08:11:43.419799Z",
     "start_time": "2024-02-26T08:11:43.408417Z"
    }
   },
   "id": "27270d0abcd54ddb"
  },
  {
   "cell_type": "code",
   "execution_count": 9,
   "outputs": [
    {
     "data": {
      "text/plain": "         DX_GROUP   DSM_IV_TR         SEX  AGE_AT_SCAN  EXISTS  START_TIME  \\\ncount  287.000000  287.000000  287.000000   287.000000   287.0  287.000000   \nmean     1.592334    0.533101    1.170732    15.687056     1.0   79.407666   \nstd      0.492259    0.751305    0.376932     6.736877     0.0   50.111739   \nmin      1.000000    0.000000    1.000000     6.470000     1.0    0.000000   \n25%      1.000000    0.000000    1.000000    10.690000     1.0   40.000000   \n50%      2.000000    0.000000    1.000000    14.360000     1.0   80.000000   \n75%      2.000000    1.000000    1.000000    19.228000     1.0  120.000000   \nmax      2.000000    3.000000    2.000000    39.100000     1.0  160.000000   \n\n         END_TIME  \ncount  287.000000  \nmean    89.407666  \nstd     50.111739  \nmin     10.000000  \n25%     50.000000  \n50%     90.000000  \n75%    130.000000  \nmax    170.000000  ",
      "text/html": "<div>\n<style scoped>\n    .dataframe tbody tr th:only-of-type {\n        vertical-align: middle;\n    }\n\n    .dataframe tbody tr th {\n        vertical-align: top;\n    }\n\n    .dataframe thead th {\n        text-align: right;\n    }\n</style>\n<table border=\"1\" class=\"dataframe\">\n  <thead>\n    <tr style=\"text-align: right;\">\n      <th></th>\n      <th>DX_GROUP</th>\n      <th>DSM_IV_TR</th>\n      <th>SEX</th>\n      <th>AGE_AT_SCAN</th>\n      <th>EXISTS</th>\n      <th>START_TIME</th>\n      <th>END_TIME</th>\n    </tr>\n  </thead>\n  <tbody>\n    <tr>\n      <th>count</th>\n      <td>287.000000</td>\n      <td>287.000000</td>\n      <td>287.000000</td>\n      <td>287.000000</td>\n      <td>287.0</td>\n      <td>287.000000</td>\n      <td>287.000000</td>\n    </tr>\n    <tr>\n      <th>mean</th>\n      <td>1.592334</td>\n      <td>0.533101</td>\n      <td>1.170732</td>\n      <td>15.687056</td>\n      <td>1.0</td>\n      <td>79.407666</td>\n      <td>89.407666</td>\n    </tr>\n    <tr>\n      <th>std</th>\n      <td>0.492259</td>\n      <td>0.751305</td>\n      <td>0.376932</td>\n      <td>6.736877</td>\n      <td>0.0</td>\n      <td>50.111739</td>\n      <td>50.111739</td>\n    </tr>\n    <tr>\n      <th>min</th>\n      <td>1.000000</td>\n      <td>0.000000</td>\n      <td>1.000000</td>\n      <td>6.470000</td>\n      <td>1.0</td>\n      <td>0.000000</td>\n      <td>10.000000</td>\n    </tr>\n    <tr>\n      <th>25%</th>\n      <td>1.000000</td>\n      <td>0.000000</td>\n      <td>1.000000</td>\n      <td>10.690000</td>\n      <td>1.0</td>\n      <td>40.000000</td>\n      <td>50.000000</td>\n    </tr>\n    <tr>\n      <th>50%</th>\n      <td>2.000000</td>\n      <td>0.000000</td>\n      <td>1.000000</td>\n      <td>14.360000</td>\n      <td>1.0</td>\n      <td>80.000000</td>\n      <td>90.000000</td>\n    </tr>\n    <tr>\n      <th>75%</th>\n      <td>2.000000</td>\n      <td>1.000000</td>\n      <td>1.000000</td>\n      <td>19.228000</td>\n      <td>1.0</td>\n      <td>120.000000</td>\n      <td>130.000000</td>\n    </tr>\n    <tr>\n      <th>max</th>\n      <td>2.000000</td>\n      <td>3.000000</td>\n      <td>2.000000</td>\n      <td>39.100000</td>\n      <td>1.0</td>\n      <td>160.000000</td>\n      <td>170.000000</td>\n    </tr>\n  </tbody>\n</table>\n</div>"
     },
     "execution_count": 9,
     "metadata": {},
     "output_type": "execute_result"
    }
   ],
   "source": [
    "test_df.describe()"
   ],
   "metadata": {
    "collapsed": false,
    "pycharm": {
     "name": "#%%\n"
    },
    "ExecuteTime": {
     "end_time": "2024-02-26T08:11:44.065212Z",
     "start_time": "2024-02-26T08:11:44.051543Z"
    }
   },
   "id": "7bfda4a11bc4362d"
  },
  {
   "cell_type": "code",
   "execution_count": 10,
   "outputs": [],
   "source": [
    "train_df.to_csv('/Users/balazsmorvay/PycharmProjects/VAE/Configurations/ABIDE_video/train.csv')\n",
    "val_df.to_csv('/Users/balazsmorvay/PycharmProjects/VAE/Configurations/ABIDE_video/val.csv')\n",
    "test_df.to_csv('/Users/balazsmorvay/PycharmProjects/VAE/Configurations/ABIDE_video/test.csv')"
   ],
   "metadata": {
    "collapsed": false,
    "pycharm": {
     "name": "#%%\n"
    },
    "ExecuteTime": {
     "end_time": "2024-02-26T08:12:03.995128Z",
     "start_time": "2024-02-26T08:12:03.981976Z"
    }
   },
   "id": "8a1cebe372aa62d4"
  },
  {
   "cell_type": "markdown",
   "source": [
    "# Select the second highest to be the out of distribution test set"
   ],
   "metadata": {
    "collapsed": false
   },
   "id": "f1ef888bd941378e"
  },
  {
   "cell_type": "code",
   "execution_count": 6,
   "outputs": [
    {
     "data": {
      "text/plain": "        FILE_ID  DX_GROUP  DSM_IV_TR  SEX  AGE_AT_SCAN HANDEDNESS_CATEGORY  \\\n1  Pitt_0050004         1          1    1        19.09                   R   \n2  Pitt_0050005         1          1    2        13.73                   R   \n3  Pitt_0050006         1          1    1        13.37                   L   \n4  Pitt_0050007         1          1    1        17.78                   R   \n5  Pitt_0050008         1          1    1        32.45                   R   \n\n  SITE_ID  EXISTS  \n1    PITT       1  \n2    PITT       1  \n3    PITT       1  \n4    PITT       1  \n5    PITT       1  ",
      "text/html": "<div>\n<style scoped>\n    .dataframe tbody tr th:only-of-type {\n        vertical-align: middle;\n    }\n\n    .dataframe tbody tr th {\n        vertical-align: top;\n    }\n\n    .dataframe thead th {\n        text-align: right;\n    }\n</style>\n<table border=\"1\" class=\"dataframe\">\n  <thead>\n    <tr style=\"text-align: right;\">\n      <th></th>\n      <th>FILE_ID</th>\n      <th>DX_GROUP</th>\n      <th>DSM_IV_TR</th>\n      <th>SEX</th>\n      <th>AGE_AT_SCAN</th>\n      <th>HANDEDNESS_CATEGORY</th>\n      <th>SITE_ID</th>\n      <th>EXISTS</th>\n    </tr>\n  </thead>\n  <tbody>\n    <tr>\n      <th>1</th>\n      <td>Pitt_0050004</td>\n      <td>1</td>\n      <td>1</td>\n      <td>1</td>\n      <td>19.09</td>\n      <td>R</td>\n      <td>PITT</td>\n      <td>1</td>\n    </tr>\n    <tr>\n      <th>2</th>\n      <td>Pitt_0050005</td>\n      <td>1</td>\n      <td>1</td>\n      <td>2</td>\n      <td>13.73</td>\n      <td>R</td>\n      <td>PITT</td>\n      <td>1</td>\n    </tr>\n    <tr>\n      <th>3</th>\n      <td>Pitt_0050006</td>\n      <td>1</td>\n      <td>1</td>\n      <td>1</td>\n      <td>13.37</td>\n      <td>L</td>\n      <td>PITT</td>\n      <td>1</td>\n    </tr>\n    <tr>\n      <th>4</th>\n      <td>Pitt_0050007</td>\n      <td>1</td>\n      <td>1</td>\n      <td>1</td>\n      <td>17.78</td>\n      <td>R</td>\n      <td>PITT</td>\n      <td>1</td>\n    </tr>\n    <tr>\n      <th>5</th>\n      <td>Pitt_0050008</td>\n      <td>1</td>\n      <td>1</td>\n      <td>1</td>\n      <td>32.45</td>\n      <td>R</td>\n      <td>PITT</td>\n      <td>1</td>\n    </tr>\n  </tbody>\n</table>\n</div>"
     },
     "execution_count": 6,
     "metadata": {},
     "output_type": "execute_result"
    }
   ],
   "source": [
    "df = pd.read_csv(\"/Users/balazsmorvay/PycharmProjects/VAE/Data/usables.csv\", sep=';')\n",
    "for i in range(len(df)):\n",
    "    filename = df.loc[i, 'FILE_ID']\n",
    "    filepath = os.path.join('/Users/balazsmorvay/Downloads/ABIDE/data/Outputs/ccs/filt_noglobal/func_preproc',\n",
    "                            f'{filename}_func_preproc.nii.gz')\n",
    "    df.loc[i, \"EXISTS\"] = 1 if os.path.exists(filepath) else 0\n",
    "df = df[df.EXISTS == 1]\n",
    "df.head()"
   ],
   "metadata": {
    "collapsed": false,
    "ExecuteTime": {
     "end_time": "2024-02-26T13:57:56.892383Z",
     "start_time": "2024-02-26T13:57:56.836980Z"
    }
   },
   "id": "adb5b8457edb1acb"
  },
  {
   "cell_type": "code",
   "execution_count": 7,
   "outputs": [
    {
     "data": {
      "text/plain": "SITE_ID\nNYU         169\nUM_1         80\nUSM          60\nUCLA_1       55\nYALE         47\nTRINITY      44\nMAX_MUN      42\nPITT         41\nKKI          39\nSTANFORD     33\nSDSU         31\nUM_2         31\nLEUVEN_1     28\nLEUVEN_2     26\nOLIN         25\nSBL          23\nOHSU         22\nUCLA_2       20\nCALTECH      15\nCMU           2\nName: count, dtype: int64"
     },
     "execution_count": 7,
     "metadata": {},
     "output_type": "execute_result"
    }
   ],
   "source": [
    "df.drop(df[df.FILE_ID == \"UM_1_0050302\"].index, inplace=True) # drop this file, as it cannot be opened\n",
    "df['SITE_ID'].value_counts()"
   ],
   "metadata": {
    "collapsed": false,
    "ExecuteTime": {
     "end_time": "2024-02-26T13:58:01.930802Z",
     "start_time": "2024-02-26T13:58:01.926201Z"
    }
   },
   "id": "ccd018043a040a05"
  },
  {
   "cell_type": "code",
   "execution_count": 8,
   "outputs": [
    {
     "data": {
      "text/plain": "          FILE_ID  DX_GROUP  DSM_IV_TR  SEX  AGE_AT_SCAN HANDEDNESS_CATEGORY  \\\n179  UM_1_0050272         1          1    1         14.2                   R   \n180  UM_1_0050273         1          1    1         16.8                   R   \n181  UM_1_0050274         1          1    1         14.2                   R   \n182  UM_1_0050275         1          1    1         11.5                   L   \n183  UM_1_0050276         1          1    2         16.8               -9999   \n\n    SITE_ID  EXISTS  \n179    UM_1       1  \n180    UM_1       1  \n181    UM_1       1  \n182    UM_1       1  \n183    UM_1       1  ",
      "text/html": "<div>\n<style scoped>\n    .dataframe tbody tr th:only-of-type {\n        vertical-align: middle;\n    }\n\n    .dataframe tbody tr th {\n        vertical-align: top;\n    }\n\n    .dataframe thead th {\n        text-align: right;\n    }\n</style>\n<table border=\"1\" class=\"dataframe\">\n  <thead>\n    <tr style=\"text-align: right;\">\n      <th></th>\n      <th>FILE_ID</th>\n      <th>DX_GROUP</th>\n      <th>DSM_IV_TR</th>\n      <th>SEX</th>\n      <th>AGE_AT_SCAN</th>\n      <th>HANDEDNESS_CATEGORY</th>\n      <th>SITE_ID</th>\n      <th>EXISTS</th>\n    </tr>\n  </thead>\n  <tbody>\n    <tr>\n      <th>179</th>\n      <td>UM_1_0050272</td>\n      <td>1</td>\n      <td>1</td>\n      <td>1</td>\n      <td>14.2</td>\n      <td>R</td>\n      <td>UM_1</td>\n      <td>1</td>\n    </tr>\n    <tr>\n      <th>180</th>\n      <td>UM_1_0050273</td>\n      <td>1</td>\n      <td>1</td>\n      <td>1</td>\n      <td>16.8</td>\n      <td>R</td>\n      <td>UM_1</td>\n      <td>1</td>\n    </tr>\n    <tr>\n      <th>181</th>\n      <td>UM_1_0050274</td>\n      <td>1</td>\n      <td>1</td>\n      <td>1</td>\n      <td>14.2</td>\n      <td>R</td>\n      <td>UM_1</td>\n      <td>1</td>\n    </tr>\n    <tr>\n      <th>182</th>\n      <td>UM_1_0050275</td>\n      <td>1</td>\n      <td>1</td>\n      <td>1</td>\n      <td>11.5</td>\n      <td>L</td>\n      <td>UM_1</td>\n      <td>1</td>\n    </tr>\n    <tr>\n      <th>183</th>\n      <td>UM_1_0050276</td>\n      <td>1</td>\n      <td>1</td>\n      <td>2</td>\n      <td>16.8</td>\n      <td>-9999</td>\n      <td>UM_1</td>\n      <td>1</td>\n    </tr>\n  </tbody>\n</table>\n</div>"
     },
     "execution_count": 8,
     "metadata": {},
     "output_type": "execute_result"
    }
   ],
   "source": [
    "um_df = df[df.SITE_ID == 'UM_1']\n",
    "um_df.head()"
   ],
   "metadata": {
    "collapsed": false,
    "ExecuteTime": {
     "end_time": "2024-02-26T13:58:06.926591Z",
     "start_time": "2024-02-26T13:58:06.923491Z"
    }
   },
   "id": "c5ce76a346dc8c0"
  },
  {
   "cell_type": "code",
   "execution_count": 9,
   "outputs": [],
   "source": [
    "if generate_video:\n",
    "    start_times_series = pd.Series(np.arange(start=0, stop=281, step=10), name='START_TIME')\n",
    "    um_df = um_df.merge(start_times_series, how='cross')\n",
    "    um_df['END_TIME'] = um_df.apply(lambda x: x['START_TIME'] + video_length, axis=1)\n",
    "else:\n",
    "    timesteps = np.arange(0, 295)\n",
    "    um_df = um_df.merge(pd.Series(timesteps, name='TIME_SLICE'), how='cross')"
   ],
   "metadata": {
    "collapsed": false,
    "pycharm": {
     "name": "#%%\n"
    },
    "ExecuteTime": {
     "end_time": "2024-02-26T13:58:11.496303Z",
     "start_time": "2024-02-26T13:58:11.482498Z"
    }
   },
   "id": "6c2dbae8a86e3830"
  },
  {
   "cell_type": "code",
   "execution_count": 10,
   "outputs": [
    {
     "data": {
      "text/plain": "        FILE_ID  DX_GROUP  DSM_IV_TR  SEX  AGE_AT_SCAN HANDEDNESS_CATEGORY  \\\n0  UM_1_0050272         1          1    1         14.2                   R   \n1  UM_1_0050272         1          1    1         14.2                   R   \n2  UM_1_0050272         1          1    1         14.2                   R   \n3  UM_1_0050272         1          1    1         14.2                   R   \n4  UM_1_0050272         1          1    1         14.2                   R   \n\n  SITE_ID  EXISTS  START_TIME  END_TIME  \n0    UM_1       1           0        10  \n1    UM_1       1          10        20  \n2    UM_1       1          20        30  \n3    UM_1       1          30        40  \n4    UM_1       1          40        50  ",
      "text/html": "<div>\n<style scoped>\n    .dataframe tbody tr th:only-of-type {\n        vertical-align: middle;\n    }\n\n    .dataframe tbody tr th {\n        vertical-align: top;\n    }\n\n    .dataframe thead th {\n        text-align: right;\n    }\n</style>\n<table border=\"1\" class=\"dataframe\">\n  <thead>\n    <tr style=\"text-align: right;\">\n      <th></th>\n      <th>FILE_ID</th>\n      <th>DX_GROUP</th>\n      <th>DSM_IV_TR</th>\n      <th>SEX</th>\n      <th>AGE_AT_SCAN</th>\n      <th>HANDEDNESS_CATEGORY</th>\n      <th>SITE_ID</th>\n      <th>EXISTS</th>\n      <th>START_TIME</th>\n      <th>END_TIME</th>\n    </tr>\n  </thead>\n  <tbody>\n    <tr>\n      <th>0</th>\n      <td>UM_1_0050272</td>\n      <td>1</td>\n      <td>1</td>\n      <td>1</td>\n      <td>14.2</td>\n      <td>R</td>\n      <td>UM_1</td>\n      <td>1</td>\n      <td>0</td>\n      <td>10</td>\n    </tr>\n    <tr>\n      <th>1</th>\n      <td>UM_1_0050272</td>\n      <td>1</td>\n      <td>1</td>\n      <td>1</td>\n      <td>14.2</td>\n      <td>R</td>\n      <td>UM_1</td>\n      <td>1</td>\n      <td>10</td>\n      <td>20</td>\n    </tr>\n    <tr>\n      <th>2</th>\n      <td>UM_1_0050272</td>\n      <td>1</td>\n      <td>1</td>\n      <td>1</td>\n      <td>14.2</td>\n      <td>R</td>\n      <td>UM_1</td>\n      <td>1</td>\n      <td>20</td>\n      <td>30</td>\n    </tr>\n    <tr>\n      <th>3</th>\n      <td>UM_1_0050272</td>\n      <td>1</td>\n      <td>1</td>\n      <td>1</td>\n      <td>14.2</td>\n      <td>R</td>\n      <td>UM_1</td>\n      <td>1</td>\n      <td>30</td>\n      <td>40</td>\n    </tr>\n    <tr>\n      <th>4</th>\n      <td>UM_1_0050272</td>\n      <td>1</td>\n      <td>1</td>\n      <td>1</td>\n      <td>14.2</td>\n      <td>R</td>\n      <td>UM_1</td>\n      <td>1</td>\n      <td>40</td>\n      <td>50</td>\n    </tr>\n  </tbody>\n</table>\n</div>"
     },
     "execution_count": 10,
     "metadata": {},
     "output_type": "execute_result"
    }
   ],
   "source": [
    "um_df.head()"
   ],
   "metadata": {
    "collapsed": false,
    "ExecuteTime": {
     "end_time": "2024-02-26T13:58:13.747986Z",
     "start_time": "2024-02-26T13:58:13.744793Z"
    }
   },
   "id": "cc3f9ed924498020"
  },
  {
   "cell_type": "code",
   "execution_count": 11,
   "outputs": [
    {
     "data": {
      "text/plain": "         DX_GROUP    DSM_IV_TR          SEX  AGE_AT_SCAN  EXISTS  START_TIME  \\\ncount  2320.00000  2320.000000  2320.000000  2320.000000  2320.0  2320.00000   \nmean      1.57500  -124.487500     1.275000    13.913750     1.0   140.00000   \nstd       0.49445  1111.209166     0.446611     2.866876     0.0    83.68404   \nmin       1.00000 -9999.000000     1.000000     8.200000     1.0     0.00000   \n25%       1.00000     0.000000     1.000000    11.500000     1.0    70.00000   \n50%       2.00000     0.000000     1.000000    13.850000     1.0   140.00000   \n75%       2.00000     1.000000     2.000000    16.100000     1.0   210.00000   \nmax       2.00000     3.000000     2.000000    19.200000     1.0   280.00000   \n\n         END_TIME  \ncount  2320.00000  \nmean    150.00000  \nstd      83.68404  \nmin      10.00000  \n25%      80.00000  \n50%     150.00000  \n75%     220.00000  \nmax     290.00000  ",
      "text/html": "<div>\n<style scoped>\n    .dataframe tbody tr th:only-of-type {\n        vertical-align: middle;\n    }\n\n    .dataframe tbody tr th {\n        vertical-align: top;\n    }\n\n    .dataframe thead th {\n        text-align: right;\n    }\n</style>\n<table border=\"1\" class=\"dataframe\">\n  <thead>\n    <tr style=\"text-align: right;\">\n      <th></th>\n      <th>DX_GROUP</th>\n      <th>DSM_IV_TR</th>\n      <th>SEX</th>\n      <th>AGE_AT_SCAN</th>\n      <th>EXISTS</th>\n      <th>START_TIME</th>\n      <th>END_TIME</th>\n    </tr>\n  </thead>\n  <tbody>\n    <tr>\n      <th>count</th>\n      <td>2320.00000</td>\n      <td>2320.000000</td>\n      <td>2320.000000</td>\n      <td>2320.000000</td>\n      <td>2320.0</td>\n      <td>2320.00000</td>\n      <td>2320.00000</td>\n    </tr>\n    <tr>\n      <th>mean</th>\n      <td>1.57500</td>\n      <td>-124.487500</td>\n      <td>1.275000</td>\n      <td>13.913750</td>\n      <td>1.0</td>\n      <td>140.00000</td>\n      <td>150.00000</td>\n    </tr>\n    <tr>\n      <th>std</th>\n      <td>0.49445</td>\n      <td>1111.209166</td>\n      <td>0.446611</td>\n      <td>2.866876</td>\n      <td>0.0</td>\n      <td>83.68404</td>\n      <td>83.68404</td>\n    </tr>\n    <tr>\n      <th>min</th>\n      <td>1.00000</td>\n      <td>-9999.000000</td>\n      <td>1.000000</td>\n      <td>8.200000</td>\n      <td>1.0</td>\n      <td>0.00000</td>\n      <td>10.00000</td>\n    </tr>\n    <tr>\n      <th>25%</th>\n      <td>1.00000</td>\n      <td>0.000000</td>\n      <td>1.000000</td>\n      <td>11.500000</td>\n      <td>1.0</td>\n      <td>70.00000</td>\n      <td>80.00000</td>\n    </tr>\n    <tr>\n      <th>50%</th>\n      <td>2.00000</td>\n      <td>0.000000</td>\n      <td>1.000000</td>\n      <td>13.850000</td>\n      <td>1.0</td>\n      <td>140.00000</td>\n      <td>150.00000</td>\n    </tr>\n    <tr>\n      <th>75%</th>\n      <td>2.00000</td>\n      <td>1.000000</td>\n      <td>2.000000</td>\n      <td>16.100000</td>\n      <td>1.0</td>\n      <td>210.00000</td>\n      <td>220.00000</td>\n    </tr>\n    <tr>\n      <th>max</th>\n      <td>2.00000</td>\n      <td>3.000000</td>\n      <td>2.000000</td>\n      <td>19.200000</td>\n      <td>1.0</td>\n      <td>280.00000</td>\n      <td>290.00000</td>\n    </tr>\n  </tbody>\n</table>\n</div>"
     },
     "execution_count": 11,
     "metadata": {},
     "output_type": "execute_result"
    }
   ],
   "source": [
    "um_df.describe()"
   ],
   "metadata": {
    "collapsed": false,
    "ExecuteTime": {
     "end_time": "2024-02-26T13:58:19.675242Z",
     "start_time": "2024-02-26T13:58:19.663841Z"
    }
   },
   "id": "7e7e5add80aac81f"
  },
  {
   "cell_type": "code",
   "execution_count": 12,
   "outputs": [],
   "source": [
    "um_df.to_csv('/Users/balazsmorvay/PycharmProjects/VAE/Configurations/ABIDE_video/UM_1.csv')"
   ],
   "metadata": {
    "collapsed": false,
    "ExecuteTime": {
     "end_time": "2024-02-26T13:58:55.248289Z",
     "start_time": "2024-02-26T13:58:55.239156Z"
    }
   },
   "id": "896f87b791fbe7fb"
  }
 ],
 "metadata": {
  "kernelspec": {
   "display_name": "Python 3",
   "language": "python",
   "name": "python3"
  },
  "language_info": {
   "codemirror_mode": {
    "name": "ipython",
    "version": 2
   },
   "file_extension": ".py",
   "mimetype": "text/x-python",
   "name": "python",
   "nbconvert_exporter": "python",
   "pygments_lexer": "ipython2",
   "version": "2.7.6"
  }
 },
 "nbformat": 4,
 "nbformat_minor": 5
}
