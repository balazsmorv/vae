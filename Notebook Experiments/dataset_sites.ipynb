{
 "cells": [
  {
   "cell_type": "markdown",
   "source": [
    "# Imports"
   ],
   "metadata": {
    "collapsed": false
   },
   "id": "dfefc261781adc3"
  },
  {
   "cell_type": "code",
   "id": "initial_id",
   "metadata": {
    "collapsed": true,
    "pycharm": {
     "name": "#%%\n"
    },
    "ExecuteTime": {
     "end_time": "2024-08-07T18:21:16.577508Z",
     "start_time": "2024-08-07T18:21:16.361689Z"
    }
   },
   "source": [
    "import numpy as np\n",
    "import pandas as pd\n",
    "import os"
   ],
   "outputs": [
    {
     "name": "stderr",
     "output_type": "stream",
     "text": [
      "/var/folders/z_/7fqm4zqs11zdv7cm41c6w_pc0000gn/T/ipykernel_16461/3339900087.py:2: DeprecationWarning: \n",
      "Pyarrow will become a required dependency of pandas in the next major release of pandas (pandas 3.0),\n",
      "(to allow more performant data types, such as the Arrow string type, and better interoperability with other libraries)\n",
      "but was not found to be installed on your system.\n",
      "If this would cause problems for you,\n",
      "please provide us feedback at https://github.com/pandas-dev/pandas/issues/54466\n",
      "        \n",
      "  import pandas as pd\n"
     ]
    }
   ],
   "execution_count": 1
  },
  {
   "cell_type": "markdown",
   "source": [
    "# Read usable data\n",
    "Read the usables.csv file, and filter out items that are not downloaded, and thus unavailable."
   ],
   "metadata": {
    "collapsed": false
   },
   "id": "df5c27b12adc764e"
  },
  {
   "cell_type": "code",
   "source": [
    "df = pd.read_csv(\"/Users/balazsmorvay/PycharmProjects/VAE/Data/usables.csv\", sep=';')\n",
    "for i in range(len(df)):\n",
    "    filename = df.loc[i, 'FILE_ID']\n",
    "    filepath = os.path.join('/Users/balazsmorvay/Downloads/ABIDE/data/Outputs/ccs/filt_noglobal/func_preproc',\n",
    "                            f'{filename}_func_preproc.nii.gz')\n",
    "    df.loc[i, \"EXISTS\"] = 1 if os.path.exists(filepath) else 0\n",
    "df = df[df.EXISTS == 1]\n",
    "df.head()"
   ],
   "metadata": {
    "collapsed": false,
    "pycharm": {
     "name": "#%%\n"
    },
    "ExecuteTime": {
     "end_time": "2024-08-07T18:21:18.226023Z",
     "start_time": "2024-08-07T18:21:18.167091Z"
    }
   },
   "id": "68242a92eeaa516c",
   "outputs": [
    {
     "data": {
      "text/plain": [
       "        FILE_ID  DX_GROUP  DSM_IV_TR  SEX  AGE_AT_SCAN HANDEDNESS_CATEGORY  \\\n",
       "1  Pitt_0050004         1          1    1        19.09                   R   \n",
       "2  Pitt_0050005         1          1    2        13.73                   R   \n",
       "3  Pitt_0050006         1          1    1        13.37                   L   \n",
       "4  Pitt_0050007         1          1    1        17.78                   R   \n",
       "5  Pitt_0050008         1          1    1        32.45                   R   \n",
       "\n",
       "  SITE_ID  EXISTS  \n",
       "1    PITT       1  \n",
       "2    PITT       1  \n",
       "3    PITT       1  \n",
       "4    PITT       1  \n",
       "5    PITT       1  "
      ],
      "text/html": [
       "<div>\n",
       "<style scoped>\n",
       "    .dataframe tbody tr th:only-of-type {\n",
       "        vertical-align: middle;\n",
       "    }\n",
       "\n",
       "    .dataframe tbody tr th {\n",
       "        vertical-align: top;\n",
       "    }\n",
       "\n",
       "    .dataframe thead th {\n",
       "        text-align: right;\n",
       "    }\n",
       "</style>\n",
       "<table border=\"1\" class=\"dataframe\">\n",
       "  <thead>\n",
       "    <tr style=\"text-align: right;\">\n",
       "      <th></th>\n",
       "      <th>FILE_ID</th>\n",
       "      <th>DX_GROUP</th>\n",
       "      <th>DSM_IV_TR</th>\n",
       "      <th>SEX</th>\n",
       "      <th>AGE_AT_SCAN</th>\n",
       "      <th>HANDEDNESS_CATEGORY</th>\n",
       "      <th>SITE_ID</th>\n",
       "      <th>EXISTS</th>\n",
       "    </tr>\n",
       "  </thead>\n",
       "  <tbody>\n",
       "    <tr>\n",
       "      <th>1</th>\n",
       "      <td>Pitt_0050004</td>\n",
       "      <td>1</td>\n",
       "      <td>1</td>\n",
       "      <td>1</td>\n",
       "      <td>19.09</td>\n",
       "      <td>R</td>\n",
       "      <td>PITT</td>\n",
       "      <td>1</td>\n",
       "    </tr>\n",
       "    <tr>\n",
       "      <th>2</th>\n",
       "      <td>Pitt_0050005</td>\n",
       "      <td>1</td>\n",
       "      <td>1</td>\n",
       "      <td>2</td>\n",
       "      <td>13.73</td>\n",
       "      <td>R</td>\n",
       "      <td>PITT</td>\n",
       "      <td>1</td>\n",
       "    </tr>\n",
       "    <tr>\n",
       "      <th>3</th>\n",
       "      <td>Pitt_0050006</td>\n",
       "      <td>1</td>\n",
       "      <td>1</td>\n",
       "      <td>1</td>\n",
       "      <td>13.37</td>\n",
       "      <td>L</td>\n",
       "      <td>PITT</td>\n",
       "      <td>1</td>\n",
       "    </tr>\n",
       "    <tr>\n",
       "      <th>4</th>\n",
       "      <td>Pitt_0050007</td>\n",
       "      <td>1</td>\n",
       "      <td>1</td>\n",
       "      <td>1</td>\n",
       "      <td>17.78</td>\n",
       "      <td>R</td>\n",
       "      <td>PITT</td>\n",
       "      <td>1</td>\n",
       "    </tr>\n",
       "    <tr>\n",
       "      <th>5</th>\n",
       "      <td>Pitt_0050008</td>\n",
       "      <td>1</td>\n",
       "      <td>1</td>\n",
       "      <td>1</td>\n",
       "      <td>32.45</td>\n",
       "      <td>R</td>\n",
       "      <td>PITT</td>\n",
       "      <td>1</td>\n",
       "    </tr>\n",
       "  </tbody>\n",
       "</table>\n",
       "</div>"
      ]
     },
     "execution_count": 2,
     "metadata": {},
     "output_type": "execute_result"
    }
   ],
   "execution_count": 2
  },
  {
   "cell_type": "markdown",
   "source": [
    "# Check number of data points in sites"
   ],
   "metadata": {
    "collapsed": false
   },
   "id": "9eeb4824c40430c1"
  },
  {
   "cell_type": "code",
   "source": [
    "df.drop(df[df.FILE_ID == \"UM_1_0050302\"].index, inplace=True)"
   ],
   "metadata": {
    "collapsed": false,
    "ExecuteTime": {
     "end_time": "2024-08-07T18:21:23.568422Z",
     "start_time": "2024-08-07T18:21:23.563096Z"
    }
   },
   "id": "39e9561d3df300e6",
   "outputs": [],
   "execution_count": 3
  },
  {
   "cell_type": "code",
   "source": [
    "df['SITE_ID'].value_counts()"
   ],
   "metadata": {
    "collapsed": false,
    "pycharm": {
     "name": "#%%\n"
    },
    "ExecuteTime": {
     "end_time": "2024-08-07T18:21:26.062942Z",
     "start_time": "2024-08-07T18:21:26.057840Z"
    }
   },
   "id": "46ea772f50fb9453",
   "outputs": [
    {
     "data": {
      "text/plain": [
       "SITE_ID\n",
       "NYU         169\n",
       "UM_1         80\n",
       "USM          60\n",
       "UCLA_1       55\n",
       "YALE         47\n",
       "TRINITY      44\n",
       "MAX_MUN      42\n",
       "PITT         41\n",
       "KKI          39\n",
       "STANFORD     33\n",
       "SDSU         31\n",
       "UM_2         31\n",
       "LEUVEN_1     28\n",
       "LEUVEN_2     26\n",
       "OLIN         25\n",
       "SBL          23\n",
       "OHSU         22\n",
       "UCLA_2       20\n",
       "CALTECH      15\n",
       "CMU           2\n",
       "Name: count, dtype: int64"
      ]
     },
     "execution_count": 4,
     "metadata": {},
     "output_type": "execute_result"
    }
   ],
   "execution_count": 4
  },
  {
   "cell_type": "markdown",
   "source": [
    "# Select the highest, and create train, test and val.csv files"
   ],
   "metadata": {
    "collapsed": false
   },
   "id": "e225e1e8a116d18"
  },
  {
   "cell_type": "code",
   "execution_count": 52,
   "outputs": [],
   "source": [
    "df = df[df.SITE_ID == 'NYU']\n",
    "timesteps = np.arange(0, 175)\n",
    "df = df.merge(pd.Series(timesteps, name='TIME_SLICE'), how='cross')\n",
    "train_df = df.sample(frac=0.8,random_state=42)\n",
    "remaining = df.drop(train_df.index)\n",
    "val_df = remaining.sample(frac=0.5, random_state=42)\n",
    "test_df = remaining.drop(val_df.index)"
   ],
   "metadata": {
    "collapsed": false,
    "ExecuteTime": {
     "end_time": "2024-02-17T15:46:01.519731Z",
     "start_time": "2024-02-17T15:46:01.502615Z"
    },
    "pycharm": {
     "name": "#%%\n"
    }
   },
   "id": "2b60b4a8ced00098"
  },
  {
   "cell_type": "code",
   "execution_count": 53,
   "outputs": [
    {
     "data": {
      "text/plain": "           DX_GROUP     DSM_IV_TR           SEX   AGE_AT_SCAN   EXISTS  \\\ncount  23660.000000  23660.000000  23660.000000  23660.000000  23660.0   \nmean       1.571682      0.583178      1.208749     15.389336      1.0   \nstd        0.494845      0.774212      0.406423      6.613007      0.0   \nmin        1.000000      0.000000      1.000000      6.470000      1.0   \n25%        1.000000      0.000000      1.000000     10.520000      1.0   \n50%        2.000000      0.000000      1.000000     13.710000      1.0   \n75%        2.000000      1.000000      1.000000     19.640000      1.0   \nmax        2.000000      3.000000      2.000000     39.100000      1.0   \n\n         TIME_SLICE  \ncount  23660.000000  \nmean      86.964455  \nstd       50.485709  \nmin        0.000000  \n25%       43.000000  \n50%       87.000000  \n75%      131.000000  \nmax      174.000000  ",
      "text/html": "<div>\n<style scoped>\n    .dataframe tbody tr th:only-of-type {\n        vertical-align: middle;\n    }\n\n    .dataframe tbody tr th {\n        vertical-align: top;\n    }\n\n    .dataframe thead th {\n        text-align: right;\n    }\n</style>\n<table border=\"1\" class=\"dataframe\">\n  <thead>\n    <tr style=\"text-align: right;\">\n      <th></th>\n      <th>DX_GROUP</th>\n      <th>DSM_IV_TR</th>\n      <th>SEX</th>\n      <th>AGE_AT_SCAN</th>\n      <th>EXISTS</th>\n      <th>TIME_SLICE</th>\n    </tr>\n  </thead>\n  <tbody>\n    <tr>\n      <th>count</th>\n      <td>23660.000000</td>\n      <td>23660.000000</td>\n      <td>23660.000000</td>\n      <td>23660.000000</td>\n      <td>23660.0</td>\n      <td>23660.000000</td>\n    </tr>\n    <tr>\n      <th>mean</th>\n      <td>1.571682</td>\n      <td>0.583178</td>\n      <td>1.208749</td>\n      <td>15.389336</td>\n      <td>1.0</td>\n      <td>86.964455</td>\n    </tr>\n    <tr>\n      <th>std</th>\n      <td>0.494845</td>\n      <td>0.774212</td>\n      <td>0.406423</td>\n      <td>6.613007</td>\n      <td>0.0</td>\n      <td>50.485709</td>\n    </tr>\n    <tr>\n      <th>min</th>\n      <td>1.000000</td>\n      <td>0.000000</td>\n      <td>1.000000</td>\n      <td>6.470000</td>\n      <td>1.0</td>\n      <td>0.000000</td>\n    </tr>\n    <tr>\n      <th>25%</th>\n      <td>1.000000</td>\n      <td>0.000000</td>\n      <td>1.000000</td>\n      <td>10.520000</td>\n      <td>1.0</td>\n      <td>43.000000</td>\n    </tr>\n    <tr>\n      <th>50%</th>\n      <td>2.000000</td>\n      <td>0.000000</td>\n      <td>1.000000</td>\n      <td>13.710000</td>\n      <td>1.0</td>\n      <td>87.000000</td>\n    </tr>\n    <tr>\n      <th>75%</th>\n      <td>2.000000</td>\n      <td>1.000000</td>\n      <td>1.000000</td>\n      <td>19.640000</td>\n      <td>1.0</td>\n      <td>131.000000</td>\n    </tr>\n    <tr>\n      <th>max</th>\n      <td>2.000000</td>\n      <td>3.000000</td>\n      <td>2.000000</td>\n      <td>39.100000</td>\n      <td>1.0</td>\n      <td>174.000000</td>\n    </tr>\n  </tbody>\n</table>\n</div>"
     },
     "execution_count": 53,
     "metadata": {},
     "output_type": "execute_result"
    }
   ],
   "source": [
    "train_df.describe()"
   ],
   "metadata": {
    "collapsed": false,
    "ExecuteTime": {
     "end_time": "2024-02-17T15:46:02.869315Z",
     "start_time": "2024-02-17T15:46:02.852557Z"
    },
    "pycharm": {
     "name": "#%%\n"
    }
   },
   "id": "3892a386cd3a1fa3"
  },
  {
   "cell_type": "code",
   "execution_count": 54,
   "outputs": [
    {
     "data": {
      "text/plain": "          DX_GROUP    DSM_IV_TR          SEX  AGE_AT_SCAN  EXISTS   TIME_SLICE\ncount  2958.000000  2958.000000  2958.000000  2958.000000  2958.0  2958.000000\nmean      1.578431     0.573360     1.202840    15.447469     1.0    86.748479\nstd       0.493894     0.774461     0.402182     6.546772     0.0    50.400657\nmin       1.000000     0.000000     1.000000     6.470000     1.0     0.000000\n25%       1.000000     0.000000     1.000000    10.650000     1.0    42.000000\n50%       2.000000     0.000000     1.000000    13.720000     1.0    88.000000\n75%       2.000000     1.000000     1.000000    19.730000     1.0   130.000000\nmax       2.000000     3.000000     2.000000    39.100000     1.0   174.000000",
      "text/html": "<div>\n<style scoped>\n    .dataframe tbody tr th:only-of-type {\n        vertical-align: middle;\n    }\n\n    .dataframe tbody tr th {\n        vertical-align: top;\n    }\n\n    .dataframe thead th {\n        text-align: right;\n    }\n</style>\n<table border=\"1\" class=\"dataframe\">\n  <thead>\n    <tr style=\"text-align: right;\">\n      <th></th>\n      <th>DX_GROUP</th>\n      <th>DSM_IV_TR</th>\n      <th>SEX</th>\n      <th>AGE_AT_SCAN</th>\n      <th>EXISTS</th>\n      <th>TIME_SLICE</th>\n    </tr>\n  </thead>\n  <tbody>\n    <tr>\n      <th>count</th>\n      <td>2958.000000</td>\n      <td>2958.000000</td>\n      <td>2958.000000</td>\n      <td>2958.000000</td>\n      <td>2958.0</td>\n      <td>2958.000000</td>\n    </tr>\n    <tr>\n      <th>mean</th>\n      <td>1.578431</td>\n      <td>0.573360</td>\n      <td>1.202840</td>\n      <td>15.447469</td>\n      <td>1.0</td>\n      <td>86.748479</td>\n    </tr>\n    <tr>\n      <th>std</th>\n      <td>0.493894</td>\n      <td>0.774461</td>\n      <td>0.402182</td>\n      <td>6.546772</td>\n      <td>0.0</td>\n      <td>50.400657</td>\n    </tr>\n    <tr>\n      <th>min</th>\n      <td>1.000000</td>\n      <td>0.000000</td>\n      <td>1.000000</td>\n      <td>6.470000</td>\n      <td>1.0</td>\n      <td>0.000000</td>\n    </tr>\n    <tr>\n      <th>25%</th>\n      <td>1.000000</td>\n      <td>0.000000</td>\n      <td>1.000000</td>\n      <td>10.650000</td>\n      <td>1.0</td>\n      <td>42.000000</td>\n    </tr>\n    <tr>\n      <th>50%</th>\n      <td>2.000000</td>\n      <td>0.000000</td>\n      <td>1.000000</td>\n      <td>13.720000</td>\n      <td>1.0</td>\n      <td>88.000000</td>\n    </tr>\n    <tr>\n      <th>75%</th>\n      <td>2.000000</td>\n      <td>1.000000</td>\n      <td>1.000000</td>\n      <td>19.730000</td>\n      <td>1.0</td>\n      <td>130.000000</td>\n    </tr>\n    <tr>\n      <th>max</th>\n      <td>2.000000</td>\n      <td>3.000000</td>\n      <td>2.000000</td>\n      <td>39.100000</td>\n      <td>1.0</td>\n      <td>174.000000</td>\n    </tr>\n  </tbody>\n</table>\n</div>"
     },
     "execution_count": 54,
     "metadata": {},
     "output_type": "execute_result"
    }
   ],
   "source": [
    "val_df.describe()"
   ],
   "metadata": {
    "collapsed": false,
    "ExecuteTime": {
     "end_time": "2024-02-17T15:46:05.794004Z",
     "start_time": "2024-02-17T15:46:05.780308Z"
    },
    "pycharm": {
     "name": "#%%\n"
    }
   },
   "id": "27270d0abcd54ddb"
  },
  {
   "cell_type": "code",
   "execution_count": 55,
   "outputs": [
    {
     "data": {
      "text/plain": "          DX_GROUP    DSM_IV_TR          SEX  AGE_AT_SCAN  EXISTS   TIME_SLICE\ncount  2957.000000  2957.000000  2957.000000  2957.000000  2957.0  2957.000000\nmean      1.587758     0.560027     1.198174    15.375878     1.0    87.536016\nstd       0.492322     0.769117     0.398691     6.560503     0.0    50.907407\nmin       1.000000     0.000000     1.000000     6.470000     1.0     0.000000\n25%       1.000000     0.000000     1.000000    10.520000     1.0    43.000000\n50%       2.000000     0.000000     1.000000    13.710000     1.0    89.000000\n75%       2.000000     1.000000     1.000000    19.640000     1.0   132.000000\nmax       2.000000     3.000000     2.000000    39.100000     1.0   174.000000",
      "text/html": "<div>\n<style scoped>\n    .dataframe tbody tr th:only-of-type {\n        vertical-align: middle;\n    }\n\n    .dataframe tbody tr th {\n        vertical-align: top;\n    }\n\n    .dataframe thead th {\n        text-align: right;\n    }\n</style>\n<table border=\"1\" class=\"dataframe\">\n  <thead>\n    <tr style=\"text-align: right;\">\n      <th></th>\n      <th>DX_GROUP</th>\n      <th>DSM_IV_TR</th>\n      <th>SEX</th>\n      <th>AGE_AT_SCAN</th>\n      <th>EXISTS</th>\n      <th>TIME_SLICE</th>\n    </tr>\n  </thead>\n  <tbody>\n    <tr>\n      <th>count</th>\n      <td>2957.000000</td>\n      <td>2957.000000</td>\n      <td>2957.000000</td>\n      <td>2957.000000</td>\n      <td>2957.0</td>\n      <td>2957.000000</td>\n    </tr>\n    <tr>\n      <th>mean</th>\n      <td>1.587758</td>\n      <td>0.560027</td>\n      <td>1.198174</td>\n      <td>15.375878</td>\n      <td>1.0</td>\n      <td>87.536016</td>\n    </tr>\n    <tr>\n      <th>std</th>\n      <td>0.492322</td>\n      <td>0.769117</td>\n      <td>0.398691</td>\n      <td>6.560503</td>\n      <td>0.0</td>\n      <td>50.907407</td>\n    </tr>\n    <tr>\n      <th>min</th>\n      <td>1.000000</td>\n      <td>0.000000</td>\n      <td>1.000000</td>\n      <td>6.470000</td>\n      <td>1.0</td>\n      <td>0.000000</td>\n    </tr>\n    <tr>\n      <th>25%</th>\n      <td>1.000000</td>\n      <td>0.000000</td>\n      <td>1.000000</td>\n      <td>10.520000</td>\n      <td>1.0</td>\n      <td>43.000000</td>\n    </tr>\n    <tr>\n      <th>50%</th>\n      <td>2.000000</td>\n      <td>0.000000</td>\n      <td>1.000000</td>\n      <td>13.710000</td>\n      <td>1.0</td>\n      <td>89.000000</td>\n    </tr>\n    <tr>\n      <th>75%</th>\n      <td>2.000000</td>\n      <td>1.000000</td>\n      <td>1.000000</td>\n      <td>19.640000</td>\n      <td>1.0</td>\n      <td>132.000000</td>\n    </tr>\n    <tr>\n      <th>max</th>\n      <td>2.000000</td>\n      <td>3.000000</td>\n      <td>2.000000</td>\n      <td>39.100000</td>\n      <td>1.0</td>\n      <td>174.000000</td>\n    </tr>\n  </tbody>\n</table>\n</div>"
     },
     "execution_count": 55,
     "metadata": {},
     "output_type": "execute_result"
    }
   ],
   "source": [
    "test_df.describe()"
   ],
   "metadata": {
    "collapsed": false,
    "ExecuteTime": {
     "end_time": "2024-02-17T15:46:06.504119Z",
     "start_time": "2024-02-17T15:46:06.489442Z"
    },
    "pycharm": {
     "name": "#%%\n"
    }
   },
   "id": "7bfda4a11bc4362d"
  },
  {
   "cell_type": "code",
   "execution_count": 56,
   "outputs": [],
   "source": [
    "train_df.to_csv('/Users/balazsmorvay/PycharmProjects/VAE/Configurations/ABIDE/train.csv')\n",
    "val_df.to_csv('/Users/balazsmorvay/PycharmProjects/VAE/Configurations/ABIDE/val.csv')\n",
    "test_df.to_csv('/Users/balazsmorvay/PycharmProjects/VAE/Configurations/ABIDE/test.csv')"
   ],
   "metadata": {
    "collapsed": false,
    "ExecuteTime": {
     "end_time": "2024-02-17T15:46:09.361727Z",
     "start_time": "2024-02-17T15:46:09.308116Z"
    },
    "pycharm": {
     "name": "#%%\n"
    }
   },
   "id": "8a1cebe372aa62d4"
  },
  {
   "cell_type": "markdown",
   "source": [
    "# Select the second highest to be the out of distribution test set"
   ],
   "metadata": {
    "collapsed": false
   },
   "id": "f1ef888bd941378e"
  },
  {
   "cell_type": "code",
   "source": [
    "um_df = df[df.SITE_ID == 'UM_1']\n",
    "um_df.head()"
   ],
   "metadata": {
    "collapsed": false,
    "ExecuteTime": {
     "end_time": "2024-08-07T18:21:34.693458Z",
     "start_time": "2024-08-07T18:21:34.685770Z"
    }
   },
   "id": "c5ce76a346dc8c0",
   "outputs": [
    {
     "data": {
      "text/plain": [
       "          FILE_ID  DX_GROUP  DSM_IV_TR  SEX  AGE_AT_SCAN HANDEDNESS_CATEGORY  \\\n",
       "179  UM_1_0050272         1          1    1         14.2                   R   \n",
       "180  UM_1_0050273         1          1    1         16.8                   R   \n",
       "181  UM_1_0050274         1          1    1         14.2                   R   \n",
       "182  UM_1_0050275         1          1    1         11.5                   L   \n",
       "183  UM_1_0050276         1          1    2         16.8               -9999   \n",
       "\n",
       "    SITE_ID  EXISTS  \n",
       "179    UM_1       1  \n",
       "180    UM_1       1  \n",
       "181    UM_1       1  \n",
       "182    UM_1       1  \n",
       "183    UM_1       1  "
      ],
      "text/html": [
       "<div>\n",
       "<style scoped>\n",
       "    .dataframe tbody tr th:only-of-type {\n",
       "        vertical-align: middle;\n",
       "    }\n",
       "\n",
       "    .dataframe tbody tr th {\n",
       "        vertical-align: top;\n",
       "    }\n",
       "\n",
       "    .dataframe thead th {\n",
       "        text-align: right;\n",
       "    }\n",
       "</style>\n",
       "<table border=\"1\" class=\"dataframe\">\n",
       "  <thead>\n",
       "    <tr style=\"text-align: right;\">\n",
       "      <th></th>\n",
       "      <th>FILE_ID</th>\n",
       "      <th>DX_GROUP</th>\n",
       "      <th>DSM_IV_TR</th>\n",
       "      <th>SEX</th>\n",
       "      <th>AGE_AT_SCAN</th>\n",
       "      <th>HANDEDNESS_CATEGORY</th>\n",
       "      <th>SITE_ID</th>\n",
       "      <th>EXISTS</th>\n",
       "    </tr>\n",
       "  </thead>\n",
       "  <tbody>\n",
       "    <tr>\n",
       "      <th>179</th>\n",
       "      <td>UM_1_0050272</td>\n",
       "      <td>1</td>\n",
       "      <td>1</td>\n",
       "      <td>1</td>\n",
       "      <td>14.2</td>\n",
       "      <td>R</td>\n",
       "      <td>UM_1</td>\n",
       "      <td>1</td>\n",
       "    </tr>\n",
       "    <tr>\n",
       "      <th>180</th>\n",
       "      <td>UM_1_0050273</td>\n",
       "      <td>1</td>\n",
       "      <td>1</td>\n",
       "      <td>1</td>\n",
       "      <td>16.8</td>\n",
       "      <td>R</td>\n",
       "      <td>UM_1</td>\n",
       "      <td>1</td>\n",
       "    </tr>\n",
       "    <tr>\n",
       "      <th>181</th>\n",
       "      <td>UM_1_0050274</td>\n",
       "      <td>1</td>\n",
       "      <td>1</td>\n",
       "      <td>1</td>\n",
       "      <td>14.2</td>\n",
       "      <td>R</td>\n",
       "      <td>UM_1</td>\n",
       "      <td>1</td>\n",
       "    </tr>\n",
       "    <tr>\n",
       "      <th>182</th>\n",
       "      <td>UM_1_0050275</td>\n",
       "      <td>1</td>\n",
       "      <td>1</td>\n",
       "      <td>1</td>\n",
       "      <td>11.5</td>\n",
       "      <td>L</td>\n",
       "      <td>UM_1</td>\n",
       "      <td>1</td>\n",
       "    </tr>\n",
       "    <tr>\n",
       "      <th>183</th>\n",
       "      <td>UM_1_0050276</td>\n",
       "      <td>1</td>\n",
       "      <td>1</td>\n",
       "      <td>2</td>\n",
       "      <td>16.8</td>\n",
       "      <td>-9999</td>\n",
       "      <td>UM_1</td>\n",
       "      <td>1</td>\n",
       "    </tr>\n",
       "  </tbody>\n",
       "</table>\n",
       "</div>"
      ]
     },
     "execution_count": 5,
     "metadata": {},
     "output_type": "execute_result"
    }
   ],
   "execution_count": 5
  },
  {
   "cell_type": "code",
   "execution_count": 9,
   "outputs": [],
   "source": [
    "timesteps = np.arange(0, 295)\n",
    "um_df = um_df.merge(pd.Series(timesteps, name='TIME_SLICE'), how='cross')"
   ],
   "metadata": {
    "collapsed": false,
    "pycharm": {
     "name": "#%%\n"
    },
    "ExecuteTime": {
     "end_time": "2024-02-22T08:48:16.364616Z",
     "start_time": "2024-02-22T08:48:16.354936Z"
    }
   },
   "id": "6c2dbae8a86e3830"
  },
  {
   "cell_type": "code",
   "execution_count": 10,
   "outputs": [
    {
     "data": {
      "text/plain": "           DX_GROUP     DSM_IV_TR           SEX   AGE_AT_SCAN   EXISTS  \\\ncount  23600.000000  23600.000000  23600.000000  23600.000000  23600.0   \nmean       1.575000   -124.487500      1.275000     13.913750      1.0   \nstd        0.494353   1110.993193      0.446524      2.866319      0.0   \nmin        1.000000  -9999.000000      1.000000      8.200000      1.0   \n25%        1.000000      0.000000      1.000000     11.500000      1.0   \n50%        2.000000      0.000000      1.000000     13.850000      1.0   \n75%        2.000000      1.000000      2.000000     16.100000      1.0   \nmax        2.000000      3.000000      2.000000     19.200000      1.0   \n\n        TIME_SLICE  \ncount  23600.00000  \nmean     147.00000  \nstd       85.16048  \nmin        0.00000  \n25%       73.00000  \n50%      147.00000  \n75%      221.00000  \nmax      294.00000  ",
      "text/html": "<div>\n<style scoped>\n    .dataframe tbody tr th:only-of-type {\n        vertical-align: middle;\n    }\n\n    .dataframe tbody tr th {\n        vertical-align: top;\n    }\n\n    .dataframe thead th {\n        text-align: right;\n    }\n</style>\n<table border=\"1\" class=\"dataframe\">\n  <thead>\n    <tr style=\"text-align: right;\">\n      <th></th>\n      <th>DX_GROUP</th>\n      <th>DSM_IV_TR</th>\n      <th>SEX</th>\n      <th>AGE_AT_SCAN</th>\n      <th>EXISTS</th>\n      <th>TIME_SLICE</th>\n    </tr>\n  </thead>\n  <tbody>\n    <tr>\n      <th>count</th>\n      <td>23600.000000</td>\n      <td>23600.000000</td>\n      <td>23600.000000</td>\n      <td>23600.000000</td>\n      <td>23600.0</td>\n      <td>23600.00000</td>\n    </tr>\n    <tr>\n      <th>mean</th>\n      <td>1.575000</td>\n      <td>-124.487500</td>\n      <td>1.275000</td>\n      <td>13.913750</td>\n      <td>1.0</td>\n      <td>147.00000</td>\n    </tr>\n    <tr>\n      <th>std</th>\n      <td>0.494353</td>\n      <td>1110.993193</td>\n      <td>0.446524</td>\n      <td>2.866319</td>\n      <td>0.0</td>\n      <td>85.16048</td>\n    </tr>\n    <tr>\n      <th>min</th>\n      <td>1.000000</td>\n      <td>-9999.000000</td>\n      <td>1.000000</td>\n      <td>8.200000</td>\n      <td>1.0</td>\n      <td>0.00000</td>\n    </tr>\n    <tr>\n      <th>25%</th>\n      <td>1.000000</td>\n      <td>0.000000</td>\n      <td>1.000000</td>\n      <td>11.500000</td>\n      <td>1.0</td>\n      <td>73.00000</td>\n    </tr>\n    <tr>\n      <th>50%</th>\n      <td>2.000000</td>\n      <td>0.000000</td>\n      <td>1.000000</td>\n      <td>13.850000</td>\n      <td>1.0</td>\n      <td>147.00000</td>\n    </tr>\n    <tr>\n      <th>75%</th>\n      <td>2.000000</td>\n      <td>1.000000</td>\n      <td>2.000000</td>\n      <td>16.100000</td>\n      <td>1.0</td>\n      <td>221.00000</td>\n    </tr>\n    <tr>\n      <th>max</th>\n      <td>2.000000</td>\n      <td>3.000000</td>\n      <td>2.000000</td>\n      <td>19.200000</td>\n      <td>1.0</td>\n      <td>294.00000</td>\n    </tr>\n  </tbody>\n</table>\n</div>"
     },
     "execution_count": 10,
     "metadata": {},
     "output_type": "execute_result"
    }
   ],
   "source": [
    "um_df.describe()"
   ],
   "metadata": {
    "collapsed": false,
    "ExecuteTime": {
     "end_time": "2024-02-22T08:48:18.493858Z",
     "start_time": "2024-02-22T08:48:18.477115Z"
    }
   },
   "id": "7e7e5add80aac81f"
  },
  {
   "cell_type": "code",
   "execution_count": 11,
   "outputs": [],
   "source": [
    "um_df.to_csv('/Users/balazsmorvay/PycharmProjects/VAE/Configurations/ABIDE/UM_1.csv')"
   ],
   "metadata": {
    "collapsed": false,
    "ExecuteTime": {
     "end_time": "2024-02-22T08:48:26.195520Z",
     "start_time": "2024-02-22T08:48:26.147408Z"
    }
   },
   "id": "896f87b791fbe7fb"
  }
 ],
 "metadata": {
  "kernelspec": {
   "display_name": "Python 3",
   "language": "python",
   "name": "python3"
  },
  "language_info": {
   "codemirror_mode": {
    "name": "ipython",
    "version": 2
   },
   "file_extension": ".py",
   "mimetype": "text/x-python",
   "name": "python",
   "nbconvert_exporter": "python",
   "pygments_lexer": "ipython2",
   "version": "2.7.6"
  }
 },
 "nbformat": 4,
 "nbformat_minor": 5
}
