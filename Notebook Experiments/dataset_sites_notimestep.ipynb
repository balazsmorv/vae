{
 "cells": [
  {
   "cell_type": "markdown",
   "source": [
    "# Imports"
   ],
   "metadata": {
    "collapsed": false
   },
   "id": "dfefc261781adc3"
  },
  {
   "cell_type": "code",
   "id": "initial_id",
   "metadata": {
    "collapsed": true,
    "pycharm": {
     "name": "#%%\n"
    },
    "ExecuteTime": {
     "end_time": "2024-08-07T18:22:44.976441Z",
     "start_time": "2024-08-07T18:22:44.973942Z"
    }
   },
   "source": [
    "import numpy as np\n",
    "import pandas as pd\n",
    "import os"
   ],
   "outputs": [],
   "execution_count": 19
  },
  {
   "cell_type": "markdown",
   "source": [
    "# Read usable data\n",
    "Read the usables.csv file, and filter out items that are not downloaded, and thus unavailable."
   ],
   "metadata": {
    "collapsed": false
   },
   "id": "df5c27b12adc764e"
  },
  {
   "cell_type": "code",
   "source": [
    "df = pd.read_csv(\"/Users/balazsmorvay/PycharmProjects/VAE/Data/usables.csv\", sep=';')\n",
    "for i in range(len(df)):\n",
    "    filename = df.loc[i, 'FILE_ID']\n",
    "    filepath = os.path.join('/Users/balazsmorvay/Downloads/ABIDE/data/Outputs/ccs/filt_noglobal/func_preproc',\n",
    "                            f'{filename}_func_preproc.nii.gz')\n",
    "    df.loc[i, \"EXISTS\"] = 1 if os.path.exists(filepath) else 0\n",
    "df = df[df.EXISTS == 1]\n",
    "df.head()"
   ],
   "metadata": {
    "collapsed": false,
    "pycharm": {
     "name": "#%%\n"
    },
    "ExecuteTime": {
     "end_time": "2024-08-07T18:22:46.363561Z",
     "start_time": "2024-08-07T18:22:46.289832Z"
    }
   },
   "id": "68242a92eeaa516c",
   "outputs": [
    {
     "data": {
      "text/plain": [
       "        FILE_ID  DX_GROUP  DSM_IV_TR  SEX  AGE_AT_SCAN HANDEDNESS_CATEGORY  \\\n",
       "1  Pitt_0050004         1          1    1        19.09                   R   \n",
       "2  Pitt_0050005         1          1    2        13.73                   R   \n",
       "3  Pitt_0050006         1          1    1        13.37                   L   \n",
       "4  Pitt_0050007         1          1    1        17.78                   R   \n",
       "5  Pitt_0050008         1          1    1        32.45                   R   \n",
       "\n",
       "  SITE_ID  EXISTS  \n",
       "1    PITT       1  \n",
       "2    PITT       1  \n",
       "3    PITT       1  \n",
       "4    PITT       1  \n",
       "5    PITT       1  "
      ],
      "text/html": [
       "<div>\n",
       "<style scoped>\n",
       "    .dataframe tbody tr th:only-of-type {\n",
       "        vertical-align: middle;\n",
       "    }\n",
       "\n",
       "    .dataframe tbody tr th {\n",
       "        vertical-align: top;\n",
       "    }\n",
       "\n",
       "    .dataframe thead th {\n",
       "        text-align: right;\n",
       "    }\n",
       "</style>\n",
       "<table border=\"1\" class=\"dataframe\">\n",
       "  <thead>\n",
       "    <tr style=\"text-align: right;\">\n",
       "      <th></th>\n",
       "      <th>FILE_ID</th>\n",
       "      <th>DX_GROUP</th>\n",
       "      <th>DSM_IV_TR</th>\n",
       "      <th>SEX</th>\n",
       "      <th>AGE_AT_SCAN</th>\n",
       "      <th>HANDEDNESS_CATEGORY</th>\n",
       "      <th>SITE_ID</th>\n",
       "      <th>EXISTS</th>\n",
       "    </tr>\n",
       "  </thead>\n",
       "  <tbody>\n",
       "    <tr>\n",
       "      <th>1</th>\n",
       "      <td>Pitt_0050004</td>\n",
       "      <td>1</td>\n",
       "      <td>1</td>\n",
       "      <td>1</td>\n",
       "      <td>19.09</td>\n",
       "      <td>R</td>\n",
       "      <td>PITT</td>\n",
       "      <td>1</td>\n",
       "    </tr>\n",
       "    <tr>\n",
       "      <th>2</th>\n",
       "      <td>Pitt_0050005</td>\n",
       "      <td>1</td>\n",
       "      <td>1</td>\n",
       "      <td>2</td>\n",
       "      <td>13.73</td>\n",
       "      <td>R</td>\n",
       "      <td>PITT</td>\n",
       "      <td>1</td>\n",
       "    </tr>\n",
       "    <tr>\n",
       "      <th>3</th>\n",
       "      <td>Pitt_0050006</td>\n",
       "      <td>1</td>\n",
       "      <td>1</td>\n",
       "      <td>1</td>\n",
       "      <td>13.37</td>\n",
       "      <td>L</td>\n",
       "      <td>PITT</td>\n",
       "      <td>1</td>\n",
       "    </tr>\n",
       "    <tr>\n",
       "      <th>4</th>\n",
       "      <td>Pitt_0050007</td>\n",
       "      <td>1</td>\n",
       "      <td>1</td>\n",
       "      <td>1</td>\n",
       "      <td>17.78</td>\n",
       "      <td>R</td>\n",
       "      <td>PITT</td>\n",
       "      <td>1</td>\n",
       "    </tr>\n",
       "    <tr>\n",
       "      <th>5</th>\n",
       "      <td>Pitt_0050008</td>\n",
       "      <td>1</td>\n",
       "      <td>1</td>\n",
       "      <td>1</td>\n",
       "      <td>32.45</td>\n",
       "      <td>R</td>\n",
       "      <td>PITT</td>\n",
       "      <td>1</td>\n",
       "    </tr>\n",
       "  </tbody>\n",
       "</table>\n",
       "</div>"
      ]
     },
     "execution_count": 20,
     "metadata": {},
     "output_type": "execute_result"
    }
   ],
   "execution_count": 20
  },
  {
   "cell_type": "markdown",
   "source": [
    "# Check number of data points in sites"
   ],
   "metadata": {
    "collapsed": false
   },
   "id": "9eeb4824c40430c1"
  },
  {
   "cell_type": "code",
   "source": [
    "df.drop(df[df.FILE_ID == \"UM_1_0050302\"].index, inplace=True)"
   ],
   "metadata": {
    "collapsed": false,
    "ExecuteTime": {
     "end_time": "2024-08-07T18:22:48.312557Z",
     "start_time": "2024-08-07T18:22:48.308403Z"
    }
   },
   "id": "39e9561d3df300e6",
   "outputs": [],
   "execution_count": 21
  },
  {
   "cell_type": "code",
   "source": [
    "df['SITE_ID'].value_counts()"
   ],
   "metadata": {
    "collapsed": false,
    "pycharm": {
     "name": "#%%\n"
    },
    "ExecuteTime": {
     "end_time": "2024-08-07T18:22:49.130788Z",
     "start_time": "2024-08-07T18:22:49.126773Z"
    }
   },
   "id": "46ea772f50fb9453",
   "outputs": [
    {
     "data": {
      "text/plain": [
       "SITE_ID\n",
       "NYU         169\n",
       "UM_1         80\n",
       "USM          60\n",
       "UCLA_1       55\n",
       "YALE         47\n",
       "TRINITY      44\n",
       "MAX_MUN      42\n",
       "PITT         41\n",
       "KKI          39\n",
       "STANFORD     33\n",
       "SDSU         31\n",
       "UM_2         31\n",
       "LEUVEN_1     28\n",
       "LEUVEN_2     26\n",
       "OLIN         25\n",
       "SBL          23\n",
       "OHSU         22\n",
       "UCLA_2       20\n",
       "CALTECH      15\n",
       "CMU           2\n",
       "Name: count, dtype: int64"
      ]
     },
     "execution_count": 22,
     "metadata": {},
     "output_type": "execute_result"
    }
   ],
   "execution_count": 22
  },
  {
   "cell_type": "markdown",
   "source": [
    "# Select the highest, and create train, test and val.csv files"
   ],
   "metadata": {
    "collapsed": false
   },
   "id": "e225e1e8a116d18"
  },
  {
   "cell_type": "code",
   "source": [
    "df = df[df.SITE_ID == 'NYU']\n",
    "train_df = df.sample(frac=0.8,random_state=42)\n",
    "remaining = df.drop(train_df.index)"
   ],
   "metadata": {
    "collapsed": false,
    "pycharm": {
     "name": "#%%\n"
    },
    "ExecuteTime": {
     "end_time": "2024-08-07T18:22:50.428118Z",
     "start_time": "2024-08-07T18:22:50.423421Z"
    }
   },
   "id": "2b60b4a8ced00098",
   "outputs": [],
   "execution_count": 23
  },
  {
   "cell_type": "code",
   "source": [
    "train_df.describe()"
   ],
   "metadata": {
    "collapsed": false,
    "pycharm": {
     "name": "#%%\n"
    },
    "ExecuteTime": {
     "end_time": "2024-08-07T18:22:51.359955Z",
     "start_time": "2024-08-07T18:22:51.348174Z"
    }
   },
   "id": "3892a386cd3a1fa3",
   "outputs": [
    {
     "data": {
      "text/plain": [
       "         DX_GROUP   DSM_IV_TR         SEX  AGE_AT_SCAN  EXISTS\n",
       "count  135.000000  135.000000  135.000000   135.000000   135.0\n",
       "mean     1.562963    0.585185    1.222222    15.334667     1.0\n",
       "std      0.497867    0.776379    0.417288     6.504610     0.0\n",
       "min      1.000000    0.000000    1.000000     6.470000     1.0\n",
       "25%      1.000000    0.000000    1.000000    10.675000     1.0\n",
       "50%      2.000000    0.000000    1.000000    13.720000     1.0\n",
       "75%      2.000000    1.000000    1.000000    18.860000     1.0\n",
       "max      2.000000    3.000000    2.000000    39.100000     1.0"
      ],
      "text/html": [
       "<div>\n",
       "<style scoped>\n",
       "    .dataframe tbody tr th:only-of-type {\n",
       "        vertical-align: middle;\n",
       "    }\n",
       "\n",
       "    .dataframe tbody tr th {\n",
       "        vertical-align: top;\n",
       "    }\n",
       "\n",
       "    .dataframe thead th {\n",
       "        text-align: right;\n",
       "    }\n",
       "</style>\n",
       "<table border=\"1\" class=\"dataframe\">\n",
       "  <thead>\n",
       "    <tr style=\"text-align: right;\">\n",
       "      <th></th>\n",
       "      <th>DX_GROUP</th>\n",
       "      <th>DSM_IV_TR</th>\n",
       "      <th>SEX</th>\n",
       "      <th>AGE_AT_SCAN</th>\n",
       "      <th>EXISTS</th>\n",
       "    </tr>\n",
       "  </thead>\n",
       "  <tbody>\n",
       "    <tr>\n",
       "      <th>count</th>\n",
       "      <td>135.000000</td>\n",
       "      <td>135.000000</td>\n",
       "      <td>135.000000</td>\n",
       "      <td>135.000000</td>\n",
       "      <td>135.0</td>\n",
       "    </tr>\n",
       "    <tr>\n",
       "      <th>mean</th>\n",
       "      <td>1.562963</td>\n",
       "      <td>0.585185</td>\n",
       "      <td>1.222222</td>\n",
       "      <td>15.334667</td>\n",
       "      <td>1.0</td>\n",
       "    </tr>\n",
       "    <tr>\n",
       "      <th>std</th>\n",
       "      <td>0.497867</td>\n",
       "      <td>0.776379</td>\n",
       "      <td>0.417288</td>\n",
       "      <td>6.504610</td>\n",
       "      <td>0.0</td>\n",
       "    </tr>\n",
       "    <tr>\n",
       "      <th>min</th>\n",
       "      <td>1.000000</td>\n",
       "      <td>0.000000</td>\n",
       "      <td>1.000000</td>\n",
       "      <td>6.470000</td>\n",
       "      <td>1.0</td>\n",
       "    </tr>\n",
       "    <tr>\n",
       "      <th>25%</th>\n",
       "      <td>1.000000</td>\n",
       "      <td>0.000000</td>\n",
       "      <td>1.000000</td>\n",
       "      <td>10.675000</td>\n",
       "      <td>1.0</td>\n",
       "    </tr>\n",
       "    <tr>\n",
       "      <th>50%</th>\n",
       "      <td>2.000000</td>\n",
       "      <td>0.000000</td>\n",
       "      <td>1.000000</td>\n",
       "      <td>13.720000</td>\n",
       "      <td>1.0</td>\n",
       "    </tr>\n",
       "    <tr>\n",
       "      <th>75%</th>\n",
       "      <td>2.000000</td>\n",
       "      <td>1.000000</td>\n",
       "      <td>1.000000</td>\n",
       "      <td>18.860000</td>\n",
       "      <td>1.0</td>\n",
       "    </tr>\n",
       "    <tr>\n",
       "      <th>max</th>\n",
       "      <td>2.000000</td>\n",
       "      <td>3.000000</td>\n",
       "      <td>2.000000</td>\n",
       "      <td>39.100000</td>\n",
       "      <td>1.0</td>\n",
       "    </tr>\n",
       "  </tbody>\n",
       "</table>\n",
       "</div>"
      ]
     },
     "execution_count": 24,
     "metadata": {},
     "output_type": "execute_result"
    }
   ],
   "execution_count": 24
  },
  {
   "metadata": {
    "ExecuteTime": {
     "end_time": "2024-08-07T18:22:52.059213Z",
     "start_time": "2024-08-07T18:22:52.052736Z"
    }
   },
   "cell_type": "code",
   "source": "remaining.describe()",
   "id": "df366aa25db3acd2",
   "outputs": [
    {
     "data": {
      "text/plain": [
       "        DX_GROUP  DSM_IV_TR        SEX  AGE_AT_SCAN  EXISTS\n",
       "count  34.000000  34.000000  34.000000    34.000000    34.0\n",
       "mean    1.617647   0.558824   1.147059    15.628618     1.0\n",
       "std     0.493270   0.785905   0.359491     7.159861     0.0\n",
       "min     1.000000   0.000000   1.000000     7.130000     1.0\n",
       "25%     1.000000   0.000000   1.000000    10.332500     1.0\n",
       "50%     2.000000   0.000000   1.000000    13.381500     1.0\n",
       "75%     2.000000   1.000000   1.000000    20.197500     1.0\n",
       "max     2.000000   2.000000   2.000000    31.780000     1.0"
      ],
      "text/html": [
       "<div>\n",
       "<style scoped>\n",
       "    .dataframe tbody tr th:only-of-type {\n",
       "        vertical-align: middle;\n",
       "    }\n",
       "\n",
       "    .dataframe tbody tr th {\n",
       "        vertical-align: top;\n",
       "    }\n",
       "\n",
       "    .dataframe thead th {\n",
       "        text-align: right;\n",
       "    }\n",
       "</style>\n",
       "<table border=\"1\" class=\"dataframe\">\n",
       "  <thead>\n",
       "    <tr style=\"text-align: right;\">\n",
       "      <th></th>\n",
       "      <th>DX_GROUP</th>\n",
       "      <th>DSM_IV_TR</th>\n",
       "      <th>SEX</th>\n",
       "      <th>AGE_AT_SCAN</th>\n",
       "      <th>EXISTS</th>\n",
       "    </tr>\n",
       "  </thead>\n",
       "  <tbody>\n",
       "    <tr>\n",
       "      <th>count</th>\n",
       "      <td>34.000000</td>\n",
       "      <td>34.000000</td>\n",
       "      <td>34.000000</td>\n",
       "      <td>34.000000</td>\n",
       "      <td>34.0</td>\n",
       "    </tr>\n",
       "    <tr>\n",
       "      <th>mean</th>\n",
       "      <td>1.617647</td>\n",
       "      <td>0.558824</td>\n",
       "      <td>1.147059</td>\n",
       "      <td>15.628618</td>\n",
       "      <td>1.0</td>\n",
       "    </tr>\n",
       "    <tr>\n",
       "      <th>std</th>\n",
       "      <td>0.493270</td>\n",
       "      <td>0.785905</td>\n",
       "      <td>0.359491</td>\n",
       "      <td>7.159861</td>\n",
       "      <td>0.0</td>\n",
       "    </tr>\n",
       "    <tr>\n",
       "      <th>min</th>\n",
       "      <td>1.000000</td>\n",
       "      <td>0.000000</td>\n",
       "      <td>1.000000</td>\n",
       "      <td>7.130000</td>\n",
       "      <td>1.0</td>\n",
       "    </tr>\n",
       "    <tr>\n",
       "      <th>25%</th>\n",
       "      <td>1.000000</td>\n",
       "      <td>0.000000</td>\n",
       "      <td>1.000000</td>\n",
       "      <td>10.332500</td>\n",
       "      <td>1.0</td>\n",
       "    </tr>\n",
       "    <tr>\n",
       "      <th>50%</th>\n",
       "      <td>2.000000</td>\n",
       "      <td>0.000000</td>\n",
       "      <td>1.000000</td>\n",
       "      <td>13.381500</td>\n",
       "      <td>1.0</td>\n",
       "    </tr>\n",
       "    <tr>\n",
       "      <th>75%</th>\n",
       "      <td>2.000000</td>\n",
       "      <td>1.000000</td>\n",
       "      <td>1.000000</td>\n",
       "      <td>20.197500</td>\n",
       "      <td>1.0</td>\n",
       "    </tr>\n",
       "    <tr>\n",
       "      <th>max</th>\n",
       "      <td>2.000000</td>\n",
       "      <td>2.000000</td>\n",
       "      <td>2.000000</td>\n",
       "      <td>31.780000</td>\n",
       "      <td>1.0</td>\n",
       "    </tr>\n",
       "  </tbody>\n",
       "</table>\n",
       "</div>"
      ]
     },
     "execution_count": 25,
     "metadata": {},
     "output_type": "execute_result"
    }
   ],
   "execution_count": 25
  },
  {
   "cell_type": "code",
   "source": [
    "train_df.to_csv('/Users/balazsmorvay/PycharmProjects/VAE/Configurations/ABIDE_Video/NYU_train.csv')\n",
    "remaining.to_csv('/Users/balazsmorvay/PycharmProjects/VAE/Configurations/ABIDE_Video/NYU_test.csv')"
   ],
   "metadata": {
    "collapsed": false,
    "pycharm": {
     "name": "#%%\n"
    },
    "ExecuteTime": {
     "end_time": "2024-08-07T18:22:54.081379Z",
     "start_time": "2024-08-07T18:22:54.076451Z"
    }
   },
   "id": "8a1cebe372aa62d4",
   "outputs": [],
   "execution_count": 26
  },
  {
   "cell_type": "markdown",
   "source": [
    "# Select the second highest to be the out of distribution test set"
   ],
   "metadata": {
    "collapsed": false
   },
   "id": "f1ef888bd941378e"
  },
  {
   "cell_type": "code",
   "source": [
    "um_df = df[df.SITE_ID == 'UM_1']\n",
    "um_df.head()"
   ],
   "metadata": {
    "collapsed": false,
    "ExecuteTime": {
     "end_time": "2024-08-07T18:21:59.830238Z",
     "start_time": "2024-08-07T18:21:59.822741Z"
    }
   },
   "id": "c5ce76a346dc8c0",
   "outputs": [
    {
     "data": {
      "text/plain": [
       "          FILE_ID  DX_GROUP  DSM_IV_TR  SEX  AGE_AT_SCAN HANDEDNESS_CATEGORY  \\\n",
       "179  UM_1_0050272         1          1    1         14.2                   R   \n",
       "180  UM_1_0050273         1          1    1         16.8                   R   \n",
       "181  UM_1_0050274         1          1    1         14.2                   R   \n",
       "182  UM_1_0050275         1          1    1         11.5                   L   \n",
       "183  UM_1_0050276         1          1    2         16.8               -9999   \n",
       "\n",
       "    SITE_ID  EXISTS  \n",
       "179    UM_1       1  \n",
       "180    UM_1       1  \n",
       "181    UM_1       1  \n",
       "182    UM_1       1  \n",
       "183    UM_1       1  "
      ],
      "text/html": [
       "<div>\n",
       "<style scoped>\n",
       "    .dataframe tbody tr th:only-of-type {\n",
       "        vertical-align: middle;\n",
       "    }\n",
       "\n",
       "    .dataframe tbody tr th {\n",
       "        vertical-align: top;\n",
       "    }\n",
       "\n",
       "    .dataframe thead th {\n",
       "        text-align: right;\n",
       "    }\n",
       "</style>\n",
       "<table border=\"1\" class=\"dataframe\">\n",
       "  <thead>\n",
       "    <tr style=\"text-align: right;\">\n",
       "      <th></th>\n",
       "      <th>FILE_ID</th>\n",
       "      <th>DX_GROUP</th>\n",
       "      <th>DSM_IV_TR</th>\n",
       "      <th>SEX</th>\n",
       "      <th>AGE_AT_SCAN</th>\n",
       "      <th>HANDEDNESS_CATEGORY</th>\n",
       "      <th>SITE_ID</th>\n",
       "      <th>EXISTS</th>\n",
       "    </tr>\n",
       "  </thead>\n",
       "  <tbody>\n",
       "    <tr>\n",
       "      <th>179</th>\n",
       "      <td>UM_1_0050272</td>\n",
       "      <td>1</td>\n",
       "      <td>1</td>\n",
       "      <td>1</td>\n",
       "      <td>14.2</td>\n",
       "      <td>R</td>\n",
       "      <td>UM_1</td>\n",
       "      <td>1</td>\n",
       "    </tr>\n",
       "    <tr>\n",
       "      <th>180</th>\n",
       "      <td>UM_1_0050273</td>\n",
       "      <td>1</td>\n",
       "      <td>1</td>\n",
       "      <td>1</td>\n",
       "      <td>16.8</td>\n",
       "      <td>R</td>\n",
       "      <td>UM_1</td>\n",
       "      <td>1</td>\n",
       "    </tr>\n",
       "    <tr>\n",
       "      <th>181</th>\n",
       "      <td>UM_1_0050274</td>\n",
       "      <td>1</td>\n",
       "      <td>1</td>\n",
       "      <td>1</td>\n",
       "      <td>14.2</td>\n",
       "      <td>R</td>\n",
       "      <td>UM_1</td>\n",
       "      <td>1</td>\n",
       "    </tr>\n",
       "    <tr>\n",
       "      <th>182</th>\n",
       "      <td>UM_1_0050275</td>\n",
       "      <td>1</td>\n",
       "      <td>1</td>\n",
       "      <td>1</td>\n",
       "      <td>11.5</td>\n",
       "      <td>L</td>\n",
       "      <td>UM_1</td>\n",
       "      <td>1</td>\n",
       "    </tr>\n",
       "    <tr>\n",
       "      <th>183</th>\n",
       "      <td>UM_1_0050276</td>\n",
       "      <td>1</td>\n",
       "      <td>1</td>\n",
       "      <td>2</td>\n",
       "      <td>16.8</td>\n",
       "      <td>-9999</td>\n",
       "      <td>UM_1</td>\n",
       "      <td>1</td>\n",
       "    </tr>\n",
       "  </tbody>\n",
       "</table>\n",
       "</div>"
      ]
     },
     "execution_count": 16,
     "metadata": {},
     "output_type": "execute_result"
    }
   ],
   "execution_count": 16
  },
  {
   "cell_type": "code",
   "source": [
    "um1_train = um_df.sample(frac=0.8,random_state=42)\n",
    "remaining = um_df.drop(um1_train.index)"
   ],
   "metadata": {
    "collapsed": false,
    "ExecuteTime": {
     "end_time": "2024-08-07T18:22:02.918846Z",
     "start_time": "2024-08-07T18:22:02.915034Z"
    }
   },
   "id": "7e7e5add80aac81f",
   "outputs": [],
   "execution_count": 17
  },
  {
   "cell_type": "code",
   "source": [
    "um1_train.to_csv('/Users/balazsmorvay/PycharmProjects/VAE/Configurations/ABIDE_Video/UM1_train.csv')\n",
    "remaining.to_csv('/Users/balazsmorvay/PycharmProjects/VAE/Configurations/ABIDE_Video/UM1_test.csv')"
   ],
   "metadata": {
    "collapsed": false,
    "ExecuteTime": {
     "end_time": "2024-08-07T18:22:05.028527Z",
     "start_time": "2024-08-07T18:22:05.024584Z"
    }
   },
   "id": "896f87b791fbe7fb",
   "outputs": [],
   "execution_count": 18
  }
 ],
 "metadata": {
  "kernelspec": {
   "display_name": "Python 3",
   "language": "python",
   "name": "python3"
  },
  "language_info": {
   "codemirror_mode": {
    "name": "ipython",
    "version": 2
   },
   "file_extension": ".py",
   "mimetype": "text/x-python",
   "name": "python",
   "nbconvert_exporter": "python",
   "pygments_lexer": "ipython2",
   "version": "2.7.6"
  }
 },
 "nbformat": 4,
 "nbformat_minor": 5
}
